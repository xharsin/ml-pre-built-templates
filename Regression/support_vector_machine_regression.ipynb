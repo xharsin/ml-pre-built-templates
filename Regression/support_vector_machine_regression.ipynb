{
 "cells": [
  {
   "cell_type": "markdown",
   "metadata": {},
   "source": [
    "# 1. Introduction\n",
    "\n",
    "In this notebook we are going to deal with a supervised learning (learning with teacher/labels) problem called Support Vector Machine(SVM). Supervised learning is further divided into :\n",
    "    1. Classification\n",
    "    2. Regression\n",
    "The agenda of this notebook is related to SVM under the class of regression (though it is also used under classification also). So only regression and SVM is targeted in this notebook\n",
    "\n",
    "## 1.1. Regression\n",
    "\n",
    "The similarity between classification and regression (which make them children of same parent class i.e. supervised learning) that both take a set of training instances and learn a mapping to a target value.But classification is different from regression because under the regression the target value is a continous class value. \n",
    "\n",
    "### 1.1.1 Support Vector Machine using Regression (SVR)\n",
    "\n",
    "Support Vector Machine under regression is bit different from simple regression. In regression the objective is to try to minimize the error rate but in SVR the objective is to try fitting the error in the range of a certain thresholds. In regression SVM maintains all the important features to maximal margin. In all the regressors, the function tries to fit a line to the data cost function minimization which is a intersting concept in the linearly continous data but in case of SVR with the deploymeny of a non-linear kernel, non-linear regression is also possible by fitting the curve rather than line. SVR is little bit different from conventational regression, due to this reason this notebook is a bit different,below are important points in regards of this notebook\n",
    "    1. SVR comes with different kernel (linear,poly and rbf) in which rbf is default. In this notebook 2 different SVRs (one is with poly and other with rbf kernel) used.\n",
    "    2. In this notebook comparsion between two SVRs have been shown via graphs which can be used to compare these two models.\n",
    "    3. Models are also evaluated using graph (by showing the allignment of a real time prediction), not by using conventional methods of validation of models.\n",
    "\n",
    "# 2. Steps Involved:\n",
    "    0. Importing the required libraries - For importing all the dependencies.\n",
    "    1. Making the Fucntions of the required steps.\n",
    "    2. Importing dataset - For importing Dataset in the programm.\n",
    "    3. Feature Engineering - For getting features from the dataset.\n",
    "    4. Exploratory Data Analysis (EDA) - for checking the nature and structure of the dataset \n",
    "    5. Pre-processing\n",
    "    6. Models Building - For Building the model (using sklearn).\n",
    "    7. Models Fitting - Fitting the model for clustering.\n",
    "    8. Saving the models - For re-use.\n",
    "    9. Loading the models - for loading the trained model\n",
    "    10. Evaluation and comparison of the models - For cheking the utility of the models and comparing them using graphs. \n",
    "    11. Conclusion\n",
    "\n",
    "\n",
    "# 3. Prerequisties\n",
    "\n",
    "## 3.1 Dataset\n",
    "\n",
    "position_salaries.csv has been used as dataset which is consist of 5 columns:\n",
    "    1. Position \n",
    "    2. Level\n",
    "    3. Salaries\n",
    "This dataset is dumy dataset which contains only 10 entries.\n",
    "\n",
    "## 3.2 Libraries Requirements\n",
    "    scikit-learn == 0.19.1\n",
    "    scipy == 1.1.0\n",
    "    pandas == 0.23.1\n",
    "    matplotlib == 2.0.2\n",
    "    numpy == 1.16.3\n",
    "    pickle == 0.7.4\n",
    "\n",
    "# 4. Use Case\n",
    "Some famous use cases for which Support Vector Machine using regression can be used:\n",
    "    1. For performing non-linear regression\n",
    "    2. For multivariate forecasting\n",
    "    3. Time series forecasting\n",
    "    4. Calibrating traffic flow models\n",
    "    5. Stock price prediction/forecasting\n"
   ]
  },
  {
   "cell_type": "markdown",
   "metadata": {},
   "source": [
    "## Step 0. Importing the required libraries"
   ]
  },
  {
   "cell_type": "code",
   "execution_count": 171,
   "metadata": {
    "collapsed": false
   },
   "outputs": [],
   "source": [
    "import numpy as np\n",
    "import matplotlib.pyplot as plt\n",
    "import pandas as pd\n",
    "from sklearn.preprocessing import StandardScaler\n",
    "from sklearn.svm import SVR\n",
    "from sklearn.cross_validation import train_test_split\n",
    "from sklearn.metrics import confusion_matrix\n",
    "from sklearn.metrics import accuracy_score \n",
    "from sklearn.metrics import classification_report \n",
    "from matplotlib.colors import ListedColormap\n",
    "import pickle"
   ]
  },
  {
   "cell_type": "markdown",
   "metadata": {
    "collapsed": false
   },
   "source": [
    "## Step 1. Making the Fucntions of the required steps"
   ]
  },
  {
   "cell_type": "code",
   "execution_count": 172,
   "metadata": {
    "collapsed": true
   },
   "outputs": [],
   "source": [
    "# FUNCTION FOR IMPORTING THE DATASET\n",
    "# Input:path of the dataset (CSV)\n",
    "# Output:dataframe \n",
    "                                   \n",
    "def import_dataset(path):\n",
    "  rd=pd.read_csv(path)\n",
    "  return rd"
   ]
  },
  {
   "cell_type": "code",
   "execution_count": 173,
   "metadata": {
    "collapsed": true
   },
   "outputs": [],
   "source": [
    "# FUNCTION FOR SPLITING THE DATASET INTO TRAIN DATASET\n",
    "# Input:dataframe\n",
    "# Output:target and features dataset\n",
    "\n",
    "def split_dataset(df):\n",
    "    X = dataset.iloc[:,1].values\n",
    "    y = dataset.iloc[:,-1].values\n",
    "    # reshape x and y because they just have one feature\n",
    "    X = X.reshape(-1,1)\n",
    "    y = y.reshape(-1,1)\n",
    "    return X,y"
   ]
  },
  {
   "cell_type": "code",
   "execution_count": 174,
   "metadata": {
    "collapsed": true
   },
   "outputs": [],
   "source": [
    "# FUNCTION FOR SPILTING THE DATA INTO TRAIN AND TEST DATASET\n",
    "# Input:features dataset, target dataset\n",
    "# Output:train dataset,test dataset\n",
    "def split_train_test(X,y):\n",
    "    X_train, X_test, y_train, y_test = train_test_split(X, y, test_size = 0.2, random_state = 0)\n",
    "    return X_train, X_test, y_train, y_test "
   ]
  },
  {
   "cell_type": "code",
   "execution_count": 175,
   "metadata": {
    "collapsed": true
   },
   "outputs": [],
   "source": [
    "# FUNCTION FOR SCALING THE DATA\n",
    "# Input:training features dataset and testing features dataset\n",
    "# Output:Scaled datasets\n",
    "def scaler(X,y):\n",
    "    sc_X = StandardScaler()\n",
    "    X = sc_X.fit_transform(X)\n",
    "    sc_y = StandardScaler()\n",
    "    y = sc_y.fit_transform(y)\n",
    "    y = y.reshape(len(y),)\n",
    "    print (y)\n",
    "    pickle.dump(sc_X, open('scaling_models/scaler_SVR_X.pickle', 'wb'))\n",
    "    pickle.dump(sc_y, open('scaling_models/scaler_SVR_y.pickle', 'wb'))\n",
    "    return X,y"
   ]
  },
  {
   "cell_type": "code",
   "execution_count": 176,
   "metadata": {
    "collapsed": true
   },
   "outputs": [],
   "source": [
    "#FUNCTION FOR BUILDING THE MODEL\n",
    "#Input:none\n",
    "#Output:regressor\n",
    "def model_build_rbf():\n",
    "    regressor_rbf=SVR(kernel='rbf')\n",
    "    return regressor_rbf\n",
    "\n",
    "def model_build_poly():\n",
    "    regressor_poly=SVR(kernel='poly')\n",
    "    return regressor_poly"
   ]
  },
  {
   "cell_type": "code",
   "execution_count": 177,
   "metadata": {
    "collapsed": true
   },
   "outputs": [],
   "source": [
    "#FUNCTION FOR TRAINING THE MODEL\n",
    "#Input:classifier, features and target dataset (training)\n",
    "#Output:trained model\n",
    "def model_train(regressor,X,y):\n",
    "    model = regressor.fit(X,y)\n",
    "    return model    "
   ]
  },
  {
   "cell_type": "code",
   "execution_count": 178,
   "metadata": {
    "collapsed": true
   },
   "outputs": [],
   "source": [
    "#FUNCTION FOR SAVING MODEL\n",
    "#Input:trained model\n",
    "#Output:none\n",
    "def model_save(model,name):\n",
    "    pickle.dump(model, open('models/%s.pickle'%name, 'wb'))"
   ]
  },
  {
   "cell_type": "code",
   "execution_count": 179,
   "metadata": {
    "collapsed": true
   },
   "outputs": [],
   "source": [
    "#FUNCTION FOR LOADING MODEL\n",
    "#Input:Path of saved model\n",
    "#Output:Loaded model\n",
    "def model_load(path_model):\n",
    "    model_loaded=pickle.load(open(path_model, 'rb'))\n",
    "    return model_loaded"
   ]
  },
  {
   "cell_type": "code",
   "execution_count": 195,
   "metadata": {
    "collapsed": true
   },
   "outputs": [],
   "source": [
    "#FUNCTION FOR LOADING SCALER MODEL \n",
    "#Input:path of scaler model\n",
    "#Output:loaded scaling model\n",
    "def scaler_load(path_scaler):\n",
    "    sc_loaded=pickle.load(open(path_scaler, 'rb'))\n",
    "    return sc_loaded"
   ]
  },
  {
   "cell_type": "code",
   "execution_count": 181,
   "metadata": {
    "collapsed": true
   },
   "outputs": [],
   "source": [
    "#FUNCTION FOR PREDICTIONS\n",
    "#Input:model,dataset for predictions\n",
    "#Output:predictions\n",
    "def prediction(model_loaded,X_test,sc_X_loaded,sc_y_loaded):\n",
    "    y_pred=sc_y_loaded.inverse_transform(model.predict(sc_X_loaded.transform(np.array([[6.5]]))))\n",
    "    return y_pred"
   ]
  },
  {
   "cell_type": "code",
   "execution_count": 182,
   "metadata": {
    "collapsed": true
   },
   "outputs": [],
   "source": [
    "#FUNCTION FOR VALIDATIONS\n",
    "#Input:predictions and real dataset\n",
    "#Output:consfusion matrix, accuracy and classification report\n",
    "def validation(y_test,y_pred):\n",
    "    cm = confusion_matrix(y_test, y_pred)\n",
    "    accuracy = accuracy_score(y_test, y_pred)\n",
    "    report = classification_report(y_test, y_pred)\n",
    "    return cm,accuracy,report"
   ]
  },
  {
   "cell_type": "markdown",
   "metadata": {},
   "source": [
    "## Step 2. Importing dataset"
   ]
  },
  {
   "cell_type": "code",
   "execution_count": 183,
   "metadata": {
    "collapsed": false
   },
   "outputs": [
    {
     "name": "stdout",
     "output_type": "stream",
     "text": [
      "            Position  Level   Salary\n",
      "0   Business Analyst      1    45000\n",
      "1  Junior Consultant      2    50000\n",
      "2  Senior Consultant      3    60000\n",
      "3            Manager      4    80000\n",
      "4    Country Manager      5   110000\n",
      "5     Region Manager      6   150000\n",
      "6            Partner      7   200000\n",
      "7     Senior Partner      8   300000\n",
      "8            C-level      9   500000\n",
      "9                CEO     10  1000000\n"
     ]
    }
   ],
   "source": [
    "# importing the dataset\n",
    "path_dataset = \"data/position_salaries.csv\"\n",
    "df = import_dataset(path_dataset) \n",
    "print (df)"
   ]
  },
  {
   "cell_type": "markdown",
   "metadata": {},
   "source": [
    "## Step 3. Exploratory Data Analysis (EDA)"
   ]
  },
  {
   "cell_type": "code",
   "execution_count": 184,
   "metadata": {
    "collapsed": false
   },
   "outputs": [
    {
     "data": {
      "text/html": [
       "<div>\n",
       "<style scoped>\n",
       "    .dataframe tbody tr th:only-of-type {\n",
       "        vertical-align: middle;\n",
       "    }\n",
       "\n",
       "    .dataframe tbody tr th {\n",
       "        vertical-align: top;\n",
       "    }\n",
       "\n",
       "    .dataframe thead th {\n",
       "        text-align: right;\n",
       "    }\n",
       "</style>\n",
       "<table border=\"1\" class=\"dataframe\">\n",
       "  <thead>\n",
       "    <tr style=\"text-align: right;\">\n",
       "      <th></th>\n",
       "      <th>Position</th>\n",
       "      <th>Level</th>\n",
       "      <th>Salary</th>\n",
       "    </tr>\n",
       "  </thead>\n",
       "  <tbody>\n",
       "    <tr>\n",
       "      <th>0</th>\n",
       "      <td>Business Analyst</td>\n",
       "      <td>1</td>\n",
       "      <td>45000</td>\n",
       "    </tr>\n",
       "    <tr>\n",
       "      <th>1</th>\n",
       "      <td>Junior Consultant</td>\n",
       "      <td>2</td>\n",
       "      <td>50000</td>\n",
       "    </tr>\n",
       "    <tr>\n",
       "      <th>2</th>\n",
       "      <td>Senior Consultant</td>\n",
       "      <td>3</td>\n",
       "      <td>60000</td>\n",
       "    </tr>\n",
       "    <tr>\n",
       "      <th>3</th>\n",
       "      <td>Manager</td>\n",
       "      <td>4</td>\n",
       "      <td>80000</td>\n",
       "    </tr>\n",
       "    <tr>\n",
       "      <th>4</th>\n",
       "      <td>Country Manager</td>\n",
       "      <td>5</td>\n",
       "      <td>110000</td>\n",
       "    </tr>\n",
       "  </tbody>\n",
       "</table>\n",
       "</div>"
      ],
      "text/plain": [
       "            Position  Level  Salary\n",
       "0   Business Analyst      1   45000\n",
       "1  Junior Consultant      2   50000\n",
       "2  Senior Consultant      3   60000\n",
       "3            Manager      4   80000\n",
       "4    Country Manager      5  110000"
      ]
     },
     "execution_count": 184,
     "metadata": {},
     "output_type": "execute_result"
    }
   ],
   "source": [
    "# Checking the nature of the entiries of Dataset\n",
    "df.head()"
   ]
  },
  {
   "cell_type": "code",
   "execution_count": 185,
   "metadata": {
    "collapsed": false
   },
   "outputs": [
    {
     "data": {
      "text/plain": [
       "(10, 3)"
      ]
     },
     "execution_count": 185,
     "metadata": {},
     "output_type": "execute_result"
    }
   ],
   "source": [
    "# Checking the shape of the Dataset\n",
    "df.shape"
   ]
  },
  {
   "cell_type": "code",
   "execution_count": 186,
   "metadata": {
    "collapsed": false
   },
   "outputs": [
    {
     "name": "stdout",
     "output_type": "stream",
     "text": [
      "<class 'pandas.core.frame.DataFrame'>\n",
      "RangeIndex: 10 entries, 0 to 9\n",
      "Data columns (total 3 columns):\n",
      "Position    10 non-null object\n",
      "Level       10 non-null int64\n",
      "Salary      10 non-null int64\n",
      "dtypes: int64(2), object(1)\n",
      "memory usage: 320.0+ bytes\n"
     ]
    }
   ],
   "source": [
    "# Checking the structure of the Dataset and Data type of all the variables of Dataset\n",
    "df.info()"
   ]
  },
  {
   "cell_type": "code",
   "execution_count": 187,
   "metadata": {
    "collapsed": false
   },
   "outputs": [
    {
     "data": {
      "image/png": "[encoded data removed]",
      "text/plain": [
       "<matplotlib.figure.Figure at 0x7f2639bbfcf8>"
      ]
     },
     "metadata": {},
     "output_type": "display_data"
    }
   ],
   "source": [
    "# Ploting the graph between salary and level which can the relationship in between\n",
    "plt.figure()\n",
    "\n",
    "x = df['Level']\n",
    "y1 = df['Salary']\n",
    "plt.xlabel('Level', fontdict=font_style)\n",
    "plt.ylabel('Salary', fontdict=font_style)\n",
    "plt.plot(x,y1)\n",
    "plt.show()"
   ]
  },
  {
   "cell_type": "markdown",
   "metadata": {},
   "source": [
    "## Step 4.  Feature Engineering "
   ]
  },
  {
   "cell_type": "code",
   "execution_count": 188,
   "metadata": {
    "collapsed": false
   },
   "outputs": [
    {
     "name": "stdout",
     "output_type": "stream",
     "text": [
      "[[ 1]\n",
      " [ 2]\n",
      " [ 3]\n",
      " [ 4]\n",
      " [ 5]\n",
      " [ 6]\n",
      " [ 7]\n",
      " [ 8]\n",
      " [ 9]\n",
      " [10]] [[  45000]\n",
      " [  50000]\n",
      " [  60000]\n",
      " [  80000]\n",
      " [ 110000]\n",
      " [ 150000]\n",
      " [ 200000]\n",
      " [ 300000]\n",
      " [ 500000]\n",
      " [1000000]]\n"
     ]
    }
   ],
   "source": [
    "# Spliting the Dataset (Feature Extraction - Extracting the Features variables as X and target vairables as y)\n",
    "X,y = split_dataset(df)\n",
    "print (X,y)"
   ]
  },
  {
   "cell_type": "markdown",
   "metadata": {},
   "source": [
    "## Step 5. Pre-processing"
   ]
  },
  {
   "cell_type": "code",
   "execution_count": 190,
   "metadata": {
    "collapsed": false
   },
   "outputs": [
    {
     "name": "stdout",
     "output_type": "stream",
     "text": [
      "[-0.72004253 -0.70243757 -0.66722767 -0.59680786 -0.49117815 -0.35033854\n",
      " -0.17428902  0.17781001  0.88200808  2.64250325]\n",
      "[[-1.5666989 ]\n",
      " [-1.21854359]\n",
      " [-0.87038828]\n",
      " [-0.52223297]\n",
      " [-0.17407766]\n",
      " [ 0.17407766]\n",
      " [ 0.52223297]\n",
      " [ 0.87038828]\n",
      " [ 1.21854359]\n",
      " [ 1.5666989 ]] [-0.72004253 -0.70243757 -0.66722767 -0.59680786 -0.49117815 -0.35033854\n",
      " -0.17428902  0.17781001  0.88200808  2.64250325]\n"
     ]
    },
    {
     "name": "stderr",
     "output_type": "stream",
     "text": [
      "/home/suryakant/anaconda3/lib/python3.5/site-packages/sklearn/utils/validation.py:475: DataConversionWarning: Data with input dtype int64 was converted to float64 by StandardScaler.\n",
      "  warnings.warn(msg, DataConversionWarning)\n"
     ]
    }
   ],
   "source": [
    "# Scaling the Training and Test dataset \n",
    "X_scaled,y_scaled = scaler(X,y)\n",
    "print (X_scaled,y_scaled)"
   ]
  },
  {
   "cell_type": "markdown",
   "metadata": {},
   "source": [
    "## Step 6. Model Building"
   ]
  },
  {
   "cell_type": "code",
   "execution_count": 191,
   "metadata": {
    "collapsed": false
   },
   "outputs": [
    {
     "name": "stdout",
     "output_type": "stream",
     "text": [
      "SVR(C=1.0, cache_size=200, coef0=0.0, degree=3, epsilon=0.1, gamma='auto',\n",
      "  kernel='rbf', max_iter=-1, shrinking=True, tol=0.001, verbose=False)\n",
      "SVR(C=1.0, cache_size=200, coef0=0.0, degree=3, epsilon=0.1, gamma='auto',\n",
      "  kernel='poly', max_iter=-1, shrinking=True, tol=0.001, verbose=False)\n"
     ]
    }
   ],
   "source": [
    "regressor_rbf = model_build_rbf()\n",
    "print (regressor_rbf)\n",
    "regressor_poly = model_build_poly()\n",
    "print (regressor_poly)"
   ]
  },
  {
   "cell_type": "markdown",
   "metadata": {},
   "source": [
    "## Step 7. Model Fitting & Step 8. Model Saving"
   ]
  },
  {
   "cell_type": "code",
   "execution_count": 192,
   "metadata": {
    "collapsed": false
   },
   "outputs": [],
   "source": [
    "## Training the model and saving the model in same step (for further info see the defination of the function above )\n",
    "model_rbf=model_train(regressor_rbf,X_scaled,y_scaled)\n",
    "model_save(model_rbf,name = 'SVR_rbf')\n",
    "model_poly=model_train(regressor_poly,X_scaled,y_scaled)\n",
    "model_save(model_poly,name = 'SVR_poly')"
   ]
  },
  {
   "cell_type": "markdown",
   "metadata": {},
   "source": [
    "## Step 9. Model loading "
   ]
  },
  {
   "cell_type": "code",
   "execution_count": 193,
   "metadata": {
    "collapsed": false
   },
   "outputs": [],
   "source": [
    "## Saving the model\n",
    "path_model_poly = 'models/SVR_poly.pickle'\n",
    "model_loaded_poly = model_load(path_model_poly)\n",
    "path_model_rbf =  'models/SVR_rbf.pickle'\n",
    "model_loaded_rbf = model_load(path_model_rbf)"
   ]
  },
  {
   "cell_type": "markdown",
   "metadata": {},
   "source": [
    "## Step 10. Model Evaluation "
   ]
  },
  {
   "cell_type": "code",
   "execution_count": 198,
   "metadata": {
    "collapsed": false
   },
   "outputs": [
    {
     "name": "stderr",
     "output_type": "stream",
     "text": [
      "/home/suryakant/anaconda3/lib/python3.5/site-packages/matplotlib/axes/_axes.py:545: UserWarning: No labelled objects found. Use label='...' kwarg on individual plots.\n",
      "  warnings.warn(\"No labelled objects found. \"\n"
     ]
    },
    {
     "data": {
      "image/png": "[encoded data removed]",
      "text/plain": [
       "<matplotlib.figure.Figure at 0x7f264d07deb8>"
      ]
     },
     "metadata": {},
     "output_type": "display_data"
    },
    {
     "data": {
      "image/png": "[encoded data removed]",
      "text/plain": [
       "<matplotlib.figure.Figure at 0x7f264c5285f8>"
      ]
     },
     "metadata": {},
     "output_type": "display_data"
    }
   ],
   "source": [
    "# scaling test data for prediction\n",
    "test = np.zeros(1) # we are testing just one value\n",
    "test[0]= 6.5\n",
    "test = test.reshape(1,1) # reshape to 2D array!\n",
    "# loading scaler model again\n",
    "path_sc_X = 'scaling_models/scaler_SVR_X.pickle' \n",
    "sc_X_loaded = scaler_load(path_sc_X)\n",
    "path_sc_y = 'scaling_models/scaler_SVR_y.pickle' \n",
    "sc_y_loaded = scaler_load(path_sc_y)\n",
    "# rescaling test data like train data\n",
    "test =sc_X_loaded.transform(test) \n",
    "\n",
    "# making prediction\n",
    "y_pred = model_loaded_poly.predict(test)\n",
    "\n",
    "# inverse scalingy y to real value\n",
    "y_predict = sc_y_loaded.inverse_transform(y_pred)\n",
    "\n",
    "#visualize the fitted model and our data\n",
    "plt.scatter(X_scaled,y_scaled,color ='red', alpha=0.6)\n",
    "plt.scatter(test,y_pred,color = 'blue', marker='D')\n",
    "plt.plot(X_scaled,model_loaded_poly.predict(X_scaled),color='green')\n",
    "plt.title('Level vs Salary (train data) using poly kernel')\n",
    "plt.xlabel('Level')\n",
    "plt.ylabel('Salary')\n",
    "plt.legend()\n",
    "plt.grid()\n",
    "plt.show()\n",
    "\n",
    "\n",
    "#################################\n",
    "\n",
    "# making prediction\n",
    "y_pred = model_loaded_rbf.predict(test)\n",
    "\n",
    "# inver scalingy y to real value\n",
    "y_predict =  sc_y_loaded.inverse_transform(y_pred)\n",
    "\n",
    "#visualize the fitted model and our data\n",
    "plt.scatter(X_scaled,y_scaled,color ='red', alpha=0.6)\n",
    "plt.scatter(test,y_pred,color = 'blue', marker='D')\n",
    "plt.plot(X_scaled,model_loaded_rbf.predict(X_scaled),color='green')\n",
    "plt.title('Level vs Salary (train data) using rbf kernel')\n",
    "plt.xlabel('Level\\n')\n",
    "plt.ylabel('Salary')\n",
    "plt.legend()\n",
    "plt.grid()\n",
    "plt.show()\n"
   ]
  },
  {
   "cell_type": "markdown",
   "metadata": {},
   "source": [
    "#### Blue dot represent the real-time prediction and green line represents the predictions from the training data"
   ]
  },
  {
   "cell_type": "markdown",
   "metadata": {},
   "source": [
    "## Step 11. Conclusion\n",
    "\n",
    "1. Blue dot represent the real-time prediction and green line represents the predictions from the training data\n",
    "2. Both model can be used for the same purpose, above are the graphs which demonstrate the performance of the models (as blue dot lies within the graph, which means models performed good).\n",
    "3. But rbf kernel SVR is lieing more within the graph as compare to poly kernel SVR."
   ]
  },
  {
   "cell_type": "code",
   "execution_count": null,
   "metadata": {
    "collapsed": true
   },
   "outputs": [],
   "source": []
  }
 ],
 "metadata": {
  "anaconda-cloud": {},
  "kernelspec": {
   "display_name": "Python [default]",
   "language": "python",
   "name": "python3"
  },
  "language_info": {
   "codemirror_mode": {
    "name": "ipython",
    "version": 3
   },
   "file_extension": ".py",
   "mimetype": "text/x-python",
   "name": "python",
   "nbconvert_exporter": "python",
   "pygments_lexer": "ipython3",
   "version": "3.5.2"
  }
 },
 "nbformat": 4,
 "nbformat_minor": 1
}
