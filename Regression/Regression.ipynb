{
 "cells": [
  {
   "cell_type": "markdown",
   "metadata": {},
   "source": [
    "# 1. Introduction\n",
    "\n",
    "In this notebook we are going to deal with a supervised learning(learning with a teacher) problem called Regression.\n",
    "\n",
    "## 1.1 Regression\n",
    "\n",
    "It is a type of supervised learning method where the target variable is continuous. There are numerous techniques to solve such problems. In this notebook we are going to work on stocks data using **Linear Regression**.\n",
    "\n",
    "### 1.1.1 Linear Regression\n",
    "\n",
    "Linear Regression is a linear model that tries to make prediction by simply computing the weight of features including a bias term.\n",
    "\n",
    "`y = b + w1*x1 + w2*x2 +....+ wn*xn`\n",
    "\n",
    "# 2. Steps Involved:\n",
    "    0. Importing the required libraries - for importing all the dependencies.\n",
    "    1. Making functions of the required steps\n",
    "    2. Importing dataset\n",
    "    3. Exploratory Data Analysis (EDA) and Preprocessing - for checking the nature and structure of the dataset\n",
    "    4. Feature Engineering - for getting features from the dataset\n",
    "    5. Model Building - for building the model (using sklearn)\n",
    "    6. Model Training - fitting the model for regression\n",
    "    7. Model Testing\n",
    "    8. Model Evaluation\n",
    "    9. Saving the model - for re-use.\n",
    "    10.Loading the model - for loading the trained model\n",
    "    11.Inference - for checking the utility of the model\n",
    "\n",
    "# 3. Prerequisites \n",
    "\n",
    "## 3.1 Dataset \n",
    "stocks.csv has been used as dataset which consist of 8 columns:\n",
    "    1. close\n",
    "    2. date\n",
    "    3. high\n",
    "    4. id\n",
    "    5. low\n",
    "    6. open\n",
    "    7. ticker\n",
    "    8. volume\n",
    "    \n",
    "## 3.2 Libraries Required\n",
    "    pandas == 0.24.2\n",
    "    matplotlib == 3.0.3\n",
    "    scikit_learn == 0.21.2\n",
    "    \n",
    "# 4. Use Case\n",
    "Some famous use cases of Linear Regression are :\n",
    "    1. In retail it is used to predict sales of an outlet\n",
    "    2. In healthcare, it is used to predict the number of dengue patients"
   ]
  },
  {
   "cell_type": "markdown",
   "metadata": {},
   "source": [
    "## Step 0. Importing the required libraries"
   ]
  },
  {
   "cell_type": "code",
   "execution_count": 1,
   "metadata": {},
   "outputs": [],
   "source": [
    "import pandas as pd\n",
    "\n",
    "from matplotlib import pyplot as plt\n",
    "from datetime import datetime\n",
    "\n",
    "# Saving the model\n",
    "import pickle\n",
    "\n",
    "# Preprocessing and Training\n",
    "from sklearn.model_selection import train_test_split\n",
    "from sklearn.preprocessing import StandardScaler\n",
    "from sklearn.linear_model import LinearRegression\n",
    "\n",
    "# Evaluation\n",
    "from sklearn.metrics import mean_squared_error, r2_score"
   ]
  },
  {
   "cell_type": "markdown",
   "metadata": {},
   "source": [
    "## Step 1. Making functions of the required steps"
   ]
  },
  {
   "cell_type": "code",
   "execution_count": 2,
   "metadata": {},
   "outputs": [],
   "source": [
    "# FUNCTION FOR IMPORTING THE DATASET\n",
    "# Input: path of the dataset (CSV)\n",
    "# Output: dataframe \n",
    "\n",
    "def import_dataset(path):\n",
    "    df = pd.read_csv(path)\n",
    "    return df"
   ]
  },
  {
   "cell_type": "code",
   "execution_count": 3,
   "metadata": {},
   "outputs": [],
   "source": [
    "# FUNCTION FOR CORRECTING DATATYPE OF DATE COLUMN\n",
    "# Input: dataframe and column name\n",
    "# Output: dataframe\n",
    "\n",
    "def correct_dtype(df, col_name):\n",
    "    df[col_name] = pd.to_datetime(df[col_name])\n",
    "    return df"
   ]
  },
  {
   "cell_type": "code",
   "execution_count": 4,
   "metadata": {},
   "outputs": [],
   "source": [
    "# FUNCTION FOR ANALYZING THE RELATED VALUES\n",
    "# Input: dataframe\n",
    "# Output: overlapped histogram of related features in our case\n",
    "\n",
    "def plt_related(df):\n",
    "    \n",
    "    def plot_hist(feature1, feature2, alpha_1, alpha_2):\n",
    "        plt.hist(stocks[feature1], label=feature1, alpha=alpha_1)\n",
    "        plt.hist(stocks[feature2], label=feature2, alpha=alpha_2)\n",
    "        plt.ylabel('stocks')\n",
    "        plt.legend()\n",
    "    \n",
    "    plt.subplot(2, 1, 1)\n",
    "    plot_hist('open', 'close', 0.5, 0.5)\n",
    "    \n",
    "    plt.subplot(2, 1, 2)\n",
    "    plot_hist('low', 'high', 0.5, 0.5)\n",
    "    plt.show()"
   ]
  },
  {
   "cell_type": "code",
   "execution_count": 5,
   "metadata": {},
   "outputs": [],
   "source": [
    "# FUNCTION FOR CHECKING THE RANGE IN WHICH STOCK VOLUMES ARE TRADED\n",
    "# Input: dataframe and column name\n",
    "# Output: histogram of stock volume\n",
    "\n",
    "def plt_stock_volume(df, col_name):\n",
    "    plt.hist(stocks['volume'], color='#11ae22', alpha=0.7)\n",
    "    plt.xlabel('volume')\n",
    "    plt.ylabel('stocks')\n",
    "    plt.show()"
   ]
  },
  {
   "cell_type": "code",
   "execution_count": 6,
   "metadata": {},
   "outputs": [],
   "source": [
    "# FUNCTION FOR GENERATING FEATURE FROM DATE COLUMN\n",
    "# Input: dataframe and column name\n",
    "# Output: dataframe with new feature\n",
    "\n",
    "def date_to_second(df, col_name):\n",
    "    df['date_to_seconds'] = df[col_name].apply(lambda x: datetime.timestamp(x))\n",
    "    df = df.drop(col_name, axis=1)\n",
    "    \n",
    "    return df"
   ]
  },
  {
   "cell_type": "code",
   "execution_count": 7,
   "metadata": {},
   "outputs": [],
   "source": [
    "# FUNCTION FOR GETTING FEATURES AND TARGET\n",
    "# Input: dataframe\n",
    "# Output: features and target value as numpy array\n",
    "\n",
    "def get_feature_target(df):\n",
    "    # Features\n",
    "    X = df.iloc[:, 1:].values\n",
    "    # Target\n",
    "    y = df.iloc[:, 0].values\n",
    "    \n",
    "    return X, y"
   ]
  },
  {
   "cell_type": "code",
   "execution_count": 8,
   "metadata": {},
   "outputs": [],
   "source": [
    "# FUNCTION FOR SPLITTING DATASET INTO TRAIN AND TEST\n",
    "# Input: Features and target variable\n",
    "# Output: Splitted dataset into train and test\n",
    "\n",
    "def split_data(X, y):\n",
    "    X_train, X_test, y_train, y_test = train_test_split(X, y, test_size=0.2, \n",
    "                                                        random_state=5)\n",
    "    return X_train, X_test, y_train, y_test"
   ]
  },
  {
   "cell_type": "code",
   "execution_count": 9,
   "metadata": {},
   "outputs": [],
   "source": [
    "# FUNCTION FOR SAVING THE MODEL\n",
    "# Input: model object, file name\n",
    "# Output: pickle file of the model\n",
    "\n",
    "def save_pickle(model_object, pkl_name):\n",
    "    file_pkl = open(pkl_name, 'wb')\n",
    "    pickle.dump(model_object, file_pkl)\n",
    "    file_pkl.close()"
   ]
  },
  {
   "cell_type": "code",
   "execution_count": 10,
   "metadata": {},
   "outputs": [],
   "source": [
    "# FUNCTION FOR FEATURE SCALING\n",
    "# Input: train and test features\n",
    "# Output: scaled train and test features\n",
    "\n",
    "def feature_scaling(X_train, X_test):\n",
    "    sc = StandardScaler()\n",
    "    X_train = sc.fit_transform(X_train)\n",
    "    X_test = sc.transform(X_test)\n",
    "    \n",
    "    # Saving the learned scaler model\n",
    "    save_pickle(sc, 'scaling_models/standard_scale.pkl')\n",
    "    \n",
    "    return X_train, X_test"
   ]
  },
  {
   "cell_type": "code",
   "execution_count": 11,
   "metadata": {},
   "outputs": [],
   "source": [
    "# FUNCTION FOR MODEL BUILDING\n",
    "# Input: null\n",
    "# Output: model\n",
    "\n",
    "def build_model():\n",
    "    lin_reg = LinearRegression()\n",
    "    return lin_reg"
   ]
  },
  {
   "cell_type": "code",
   "execution_count": 12,
   "metadata": {},
   "outputs": [],
   "source": [
    "# FUNCTION FOR MODEL TRAINING\n",
    "# Input: model object, training feature and training values\n",
    "# Output: trained model\n",
    "\n",
    "def train_model(lin_reg, X_train, y_train):\n",
    "    lin_reg.fit(X_train, y_train)"
   ]
  },
  {
   "cell_type": "code",
   "execution_count": 13,
   "metadata": {},
   "outputs": [],
   "source": [
    "# FUNCTION FOR MODEL TESTING\n",
    "# Input: test set\n",
    "# Output: predicted values\n",
    "\n",
    "def test_model(lin_reg, X_test):\n",
    "    # Predict values from the trained model\n",
    "    y_pred = lin_reg.predict(X_test)\n",
    "    return y_pred"
   ]
  },
  {
   "cell_type": "code",
   "execution_count": 14,
   "metadata": {},
   "outputs": [],
   "source": [
    "# FUNCTION FOR MODEL EVALUATION\n",
    "# Input: True values and predicted values\n",
    "# Output: Score in terms of mean squared error and variance score\n",
    "\n",
    "def eval_metrics(y_test, y_pred):\n",
    "    # Evaluation metrices\n",
    "    mse = mean_squared_error(y_test, y_pred)\n",
    "    variance_score = r2_score(y_test, y_pred) \n",
    "    \n",
    "    print(\"Mean Squared Error= {}\".format(mse))\n",
    "    print(\"Variance Score= {:.4f}\".format(variance_score))"
   ]
  },
  {
   "cell_type": "code",
   "execution_count": 15,
   "metadata": {},
   "outputs": [],
   "source": [
    "# FUNCTION FOR LOADING THE SAVED MODEL\n",
    "# Input: pickle file name\n",
    "# Output: model object\n",
    "\n",
    "def load_model(pkl_name):\n",
    "    pkl = open(pkl_name, 'rb')\n",
    "    lin_reg = pickle.load(pkl)\n",
    "    pkl.close()\n",
    "    \n",
    "    return lin_reg"
   ]
  },
  {
   "cell_type": "markdown",
   "metadata": {},
   "source": [
    "## Step 2. Importing dataset"
   ]
  },
  {
   "cell_type": "code",
   "execution_count": 16,
   "metadata": {},
   "outputs": [],
   "source": [
    "# Importing CSV\n",
    "path = 'data/stocks.csv'\n",
    "stocks = import_dataset(path)"
   ]
  },
  {
   "cell_type": "markdown",
   "metadata": {},
   "source": [
    "## Step 3. Exploratory Data Analysis (EDA) and Preprocessing"
   ]
  },
  {
   "cell_type": "code",
   "execution_count": 17,
   "metadata": {},
   "outputs": [
    {
     "data": {
      "text/html": [
       "<div>\n",
       "<style scoped>\n",
       "    .dataframe tbody tr th:only-of-type {\n",
       "        vertical-align: middle;\n",
       "    }\n",
       "\n",
       "    .dataframe tbody tr th {\n",
       "        vertical-align: top;\n",
       "    }\n",
       "\n",
       "    .dataframe thead th {\n",
       "        text-align: right;\n",
       "    }\n",
       "</style>\n",
       "<table border=\"1\" class=\"dataframe\">\n",
       "  <thead>\n",
       "    <tr style=\"text-align: right;\">\n",
       "      <th></th>\n",
       "      <th>close</th>\n",
       "      <th>date</th>\n",
       "      <th>high</th>\n",
       "      <th>id</th>\n",
       "      <th>low</th>\n",
       "      <th>open</th>\n",
       "      <th>ticker</th>\n",
       "      <th>volume</th>\n",
       "    </tr>\n",
       "  </thead>\n",
       "  <tbody>\n",
       "    <tr>\n",
       "      <th>0</th>\n",
       "      <td>1.13401</td>\n",
       "      <td>2018-12-05 04:24:00</td>\n",
       "      <td>1.13403</td>\n",
       "      <td>19703898</td>\n",
       "      <td>1.1338</td>\n",
       "      <td>1.13400</td>\n",
       "      <td>EURUSD</td>\n",
       "      <td>100</td>\n",
       "    </tr>\n",
       "    <tr>\n",
       "      <th>1</th>\n",
       "      <td>1.13385</td>\n",
       "      <td>2018-12-05 04:25:00</td>\n",
       "      <td>1.13400</td>\n",
       "      <td>19703934</td>\n",
       "      <td>1.1338</td>\n",
       "      <td>1.13399</td>\n",
       "      <td>EURUSD</td>\n",
       "      <td>118</td>\n",
       "    </tr>\n",
       "    <tr>\n",
       "      <th>2</th>\n",
       "      <td>1.13384</td>\n",
       "      <td>2018-12-05 04:26:00</td>\n",
       "      <td>1.13394</td>\n",
       "      <td>19703958</td>\n",
       "      <td>1.1337</td>\n",
       "      <td>1.13388</td>\n",
       "      <td>EURUSD</td>\n",
       "      <td>63</td>\n",
       "    </tr>\n",
       "    <tr>\n",
       "      <th>3</th>\n",
       "      <td>1.13383</td>\n",
       "      <td>2018-12-05 04:27:00</td>\n",
       "      <td>1.13394</td>\n",
       "      <td>19703987</td>\n",
       "      <td>1.1337</td>\n",
       "      <td>1.13383</td>\n",
       "      <td>EURUSD</td>\n",
       "      <td>51</td>\n",
       "    </tr>\n",
       "    <tr>\n",
       "      <th>4</th>\n",
       "      <td>1.13370</td>\n",
       "      <td>2018-12-05 04:28:00</td>\n",
       "      <td>1.13390</td>\n",
       "      <td>19704015</td>\n",
       "      <td>1.1336</td>\n",
       "      <td>1.13390</td>\n",
       "      <td>EURUSD</td>\n",
       "      <td>32</td>\n",
       "    </tr>\n",
       "  </tbody>\n",
       "</table>\n",
       "</div>"
      ],
      "text/plain": [
       "     close                 date     high        id     low     open  ticker  \\\n",
       "0  1.13401  2018-12-05 04:24:00  1.13403  19703898  1.1338  1.13400  EURUSD   \n",
       "1  1.13385  2018-12-05 04:25:00  1.13400  19703934  1.1338  1.13399  EURUSD   \n",
       "2  1.13384  2018-12-05 04:26:00  1.13394  19703958  1.1337  1.13388  EURUSD   \n",
       "3  1.13383  2018-12-05 04:27:00  1.13394  19703987  1.1337  1.13383  EURUSD   \n",
       "4  1.13370  2018-12-05 04:28:00  1.13390  19704015  1.1336  1.13390  EURUSD   \n",
       "\n",
       "   volume  \n",
       "0     100  \n",
       "1     118  \n",
       "2      63  \n",
       "3      51  \n",
       "4      32  "
      ]
     },
     "execution_count": 17,
     "metadata": {},
     "output_type": "execute_result"
    }
   ],
   "source": [
    "# Checking the dataset\n",
    "stocks.head() "
   ]
  },
  {
   "cell_type": "code",
   "execution_count": 18,
   "metadata": {},
   "outputs": [
    {
     "data": {
      "text/plain": [
       "(1440, 8)"
      ]
     },
     "execution_count": 18,
     "metadata": {},
     "output_type": "execute_result"
    }
   ],
   "source": [
    "# Checking the shape of the data\n",
    "# First entry represent the number of rows and second represents the number of columns\n",
    "stocks.shape"
   ]
  },
  {
   "cell_type": "code",
   "execution_count": 19,
   "metadata": {},
   "outputs": [
    {
     "name": "stdout",
     "output_type": "stream",
     "text": [
      "<class 'pandas.core.frame.DataFrame'>\n",
      "RangeIndex: 1440 entries, 0 to 1439\n",
      "Data columns (total 8 columns):\n",
      "close     1440 non-null float64\n",
      "date      1440 non-null object\n",
      "high      1440 non-null float64\n",
      "id        1440 non-null int64\n",
      "low       1440 non-null float64\n",
      "open      1440 non-null float64\n",
      "ticker    1440 non-null object\n",
      "volume    1440 non-null int64\n",
      "dtypes: float64(4), int64(2), object(2)\n",
      "memory usage: 90.1+ KB\n"
     ]
    }
   ],
   "source": [
    "# Checking the structure of data\n",
    "stocks.info()"
   ]
  },
  {
   "cell_type": "code",
   "execution_count": 20,
   "metadata": {},
   "outputs": [],
   "source": [
    "# Correcting data type of date column\n",
    "stocks = correct_dtype(stocks, col_name='date')"
   ]
  },
  {
   "cell_type": "code",
   "execution_count": 21,
   "metadata": {},
   "outputs": [],
   "source": [
    "# Dropping the unnecessary columns\n",
    "# id has all the unique values and ticker has only one value\n",
    "stocks = stocks.drop(['id', 'ticker'], axis=1)"
   ]
  },
  {
   "cell_type": "code",
   "execution_count": 22,
   "metadata": {},
   "outputs": [
    {
     "data": {
      "image/png": "[encoded data removed]",
      "text/plain": [
       "<Figure size 432x720 with 2 Axes>"
      ]
     },
     "metadata": {},
     "output_type": "display_data"
    }
   ],
   "source": [
    "# Analyzing related values\n",
    "\n",
    "# Plot style\n",
    "plt.style.use('ggplot')\n",
    "\n",
    "# Plot size\n",
    "plt.rcParams['figure.figsize'] = [6, 10]\n",
    "\n",
    "plt_related(stocks)"
   ]
  },
  {
   "cell_type": "code",
   "execution_count": 23,
   "metadata": {},
   "outputs": [
    {
     "data": {
      "image/png": "[encoded data removed]",
      "text/plain": [
       "<Figure size 432x360 with 1 Axes>"
      ]
     },
     "metadata": {},
     "output_type": "display_data"
    }
   ],
   "source": [
    "# Analyzing volume of stocks traded\n",
    "\n",
    "# Plot size\n",
    "plt.rcParams['figure.figsize'] = [6, 5]\n",
    "\n",
    "plt_stock_volume(stocks, col_name='volume')"
   ]
  },
  {
   "cell_type": "markdown",
   "metadata": {},
   "source": [
    "## Step 4. Feature Engineering"
   ]
  },
  {
   "cell_type": "code",
   "execution_count": 24,
   "metadata": {},
   "outputs": [],
   "source": [
    "# Generating feature from date column\n",
    "stocks = date_to_second(stocks, col_name='date')"
   ]
  },
  {
   "cell_type": "code",
   "execution_count": 25,
   "metadata": {},
   "outputs": [],
   "source": [
    "# Separating features and target\n",
    "X, y = get_feature_target(stocks)"
   ]
  },
  {
   "cell_type": "code",
   "execution_count": 26,
   "metadata": {},
   "outputs": [],
   "source": [
    "# Splitting data into train and test set\n",
    "X_train, X_test, y_train, y_test = split_data(X, y)"
   ]
  },
  {
   "cell_type": "code",
   "execution_count": 27,
   "metadata": {},
   "outputs": [],
   "source": [
    "# Feature Scaling\n",
    "X_train, X_test = feature_scaling(X_train, X_test)"
   ]
  },
  {
   "cell_type": "markdown",
   "metadata": {},
   "source": [
    "## Step 5. Model Building"
   ]
  },
  {
   "cell_type": "code",
   "execution_count": 28,
   "metadata": {},
   "outputs": [],
   "source": [
    "# Building the model\n",
    "lin_reg = build_model()"
   ]
  },
  {
   "cell_type": "markdown",
   "metadata": {},
   "source": [
    "## Step 6. Model Training"
   ]
  },
  {
   "cell_type": "code",
   "execution_count": 29,
   "metadata": {},
   "outputs": [],
   "source": [
    "# Training the model\n",
    "train_model(lin_reg, X_train, y_train)"
   ]
  },
  {
   "cell_type": "markdown",
   "metadata": {},
   "source": [
    "## Step 7. Model Testing"
   ]
  },
  {
   "cell_type": "code",
   "execution_count": 30,
   "metadata": {},
   "outputs": [],
   "source": [
    "# Testing the model\n",
    "y_pred = test_model(lin_reg, X_test)"
   ]
  },
  {
   "cell_type": "markdown",
   "metadata": {},
   "source": [
    "## Step 8. Model Evaluation"
   ]
  },
  {
   "cell_type": "code",
   "execution_count": 31,
   "metadata": {},
   "outputs": [
    {
     "name": "stdout",
     "output_type": "stream",
     "text": [
      "Mean Squared Error= 8.209671025415955e-09\n",
      "Variance Score= 0.9849\n"
     ]
    }
   ],
   "source": [
    "# Performance of the model\n",
    "eval_metrics(y_test, y_pred)"
   ]
  },
  {
   "cell_type": "markdown",
   "metadata": {},
   "source": [
    "## Step 9. Saving the model"
   ]
  },
  {
   "cell_type": "code",
   "execution_count": 32,
   "metadata": {},
   "outputs": [],
   "source": [
    "# Saving the trained model\n",
    "save_pickle(lin_reg, 'models/stocks_regression.pkl')"
   ]
  },
  {
   "cell_type": "markdown",
   "metadata": {},
   "source": [
    "## Step 10. Loading the model"
   ]
  },
  {
   "cell_type": "code",
   "execution_count": 33,
   "metadata": {},
   "outputs": [],
   "source": [
    "# Loading the scaler and trained model\n",
    "sc = load_model('scaling_models/standard_scale.pkl')\n",
    "lin_reg = load_model('models/stocks_regression.pkl')"
   ]
  },
  {
   "cell_type": "markdown",
   "metadata": {},
   "source": [
    "## Step 11. Inference"
   ]
  },
  {
   "cell_type": "code",
   "execution_count": 34,
   "metadata": {},
   "outputs": [],
   "source": [
    "# Loading the test CSV\n",
    "path = 'data/stocks_test.csv'\n",
    "stocks_test = import_dataset(path)"
   ]
  },
  {
   "cell_type": "code",
   "execution_count": 35,
   "metadata": {},
   "outputs": [
    {
     "data": {
      "text/html": [
       "<div>\n",
       "<style scoped>\n",
       "    .dataframe tbody tr th:only-of-type {\n",
       "        vertical-align: middle;\n",
       "    }\n",
       "\n",
       "    .dataframe tbody tr th {\n",
       "        vertical-align: top;\n",
       "    }\n",
       "\n",
       "    .dataframe thead th {\n",
       "        text-align: right;\n",
       "    }\n",
       "</style>\n",
       "<table border=\"1\" class=\"dataframe\">\n",
       "  <thead>\n",
       "    <tr style=\"text-align: right;\">\n",
       "      <th></th>\n",
       "      <th>close</th>\n",
       "      <th>date</th>\n",
       "      <th>high</th>\n",
       "      <th>id</th>\n",
       "      <th>low</th>\n",
       "      <th>open</th>\n",
       "      <th>ticker</th>\n",
       "      <th>volume</th>\n",
       "    </tr>\n",
       "  </thead>\n",
       "  <tbody>\n",
       "    <tr>\n",
       "      <th>0</th>\n",
       "      <td>1.13316</td>\n",
       "      <td>2018-12-06 02:48:00</td>\n",
       "      <td>1.13320</td>\n",
       "      <td>19740046</td>\n",
       "      <td>1.1328</td>\n",
       "      <td>1.13304</td>\n",
       "      <td>EURUSD</td>\n",
       "      <td>145</td>\n",
       "    </tr>\n",
       "    <tr>\n",
       "      <th>1</th>\n",
       "      <td>1.13315</td>\n",
       "      <td>2018-12-06 02:49:00</td>\n",
       "      <td>1.13333</td>\n",
       "      <td>19740083</td>\n",
       "      <td>1.1331</td>\n",
       "      <td>1.13310</td>\n",
       "      <td>EURUSD</td>\n",
       "      <td>168</td>\n",
       "    </tr>\n",
       "    <tr>\n",
       "      <th>2</th>\n",
       "      <td>1.13341</td>\n",
       "      <td>2018-12-06 02:50:00</td>\n",
       "      <td>1.13341</td>\n",
       "      <td>19740100</td>\n",
       "      <td>1.1331</td>\n",
       "      <td>1.13316</td>\n",
       "      <td>EURUSD</td>\n",
       "      <td>160</td>\n",
       "    </tr>\n",
       "    <tr>\n",
       "      <th>3</th>\n",
       "      <td>1.13330</td>\n",
       "      <td>2018-12-06 02:51:00</td>\n",
       "      <td>1.13346</td>\n",
       "      <td>19740136</td>\n",
       "      <td>1.1332</td>\n",
       "      <td>1.13341</td>\n",
       "      <td>EURUSD</td>\n",
       "      <td>107</td>\n",
       "    </tr>\n",
       "    <tr>\n",
       "      <th>4</th>\n",
       "      <td>1.13334</td>\n",
       "      <td>2018-12-06 02:52:00</td>\n",
       "      <td>1.13342</td>\n",
       "      <td>19740154</td>\n",
       "      <td>1.1331</td>\n",
       "      <td>1.13334</td>\n",
       "      <td>EURUSD</td>\n",
       "      <td>136</td>\n",
       "    </tr>\n",
       "  </tbody>\n",
       "</table>\n",
       "</div>"
      ],
      "text/plain": [
       "     close                 date     high        id     low     open  ticker  \\\n",
       "0  1.13316  2018-12-06 02:48:00  1.13320  19740046  1.1328  1.13304  EURUSD   \n",
       "1  1.13315  2018-12-06 02:49:00  1.13333  19740083  1.1331  1.13310  EURUSD   \n",
       "2  1.13341  2018-12-06 02:50:00  1.13341  19740100  1.1331  1.13316  EURUSD   \n",
       "3  1.13330  2018-12-06 02:51:00  1.13346  19740136  1.1332  1.13341  EURUSD   \n",
       "4  1.13334  2018-12-06 02:52:00  1.13342  19740154  1.1331  1.13334  EURUSD   \n",
       "\n",
       "   volume  \n",
       "0     145  \n",
       "1     168  \n",
       "2     160  \n",
       "3     107  \n",
       "4     136  "
      ]
     },
     "execution_count": 35,
     "metadata": {},
     "output_type": "execute_result"
    }
   ],
   "source": [
    "# Checking the dataset\n",
    "stocks_test.head()"
   ]
  },
  {
   "cell_type": "code",
   "execution_count": 36,
   "metadata": {},
   "outputs": [
    {
     "data": {
      "text/plain": [
       "(84, 8)"
      ]
     },
     "execution_count": 36,
     "metadata": {},
     "output_type": "execute_result"
    }
   ],
   "source": [
    "# Checking the shape of the data\n",
    "# First entry represent the number of rows and second represents the number of columns\n",
    "stocks_test.shape"
   ]
  },
  {
   "cell_type": "code",
   "execution_count": 37,
   "metadata": {},
   "outputs": [
    {
     "name": "stdout",
     "output_type": "stream",
     "text": [
      "<class 'pandas.core.frame.DataFrame'>\n",
      "RangeIndex: 84 entries, 0 to 83\n",
      "Data columns (total 8 columns):\n",
      "close     84 non-null float64\n",
      "date      84 non-null object\n",
      "high      84 non-null float64\n",
      "id        84 non-null int64\n",
      "low       84 non-null float64\n",
      "open      84 non-null float64\n",
      "ticker    84 non-null object\n",
      "volume    84 non-null int64\n",
      "dtypes: float64(4), int64(2), object(2)\n",
      "memory usage: 5.3+ KB\n"
     ]
    }
   ],
   "source": [
    "# Checking the structure of data\n",
    "stocks_test.info()"
   ]
  },
  {
   "cell_type": "code",
   "execution_count": 38,
   "metadata": {},
   "outputs": [],
   "source": [
    "# Correcting data type of date column\n",
    "stocks_test = correct_dtype(stocks_test, col_name='date')"
   ]
  },
  {
   "cell_type": "code",
   "execution_count": 39,
   "metadata": {},
   "outputs": [],
   "source": [
    "# Converting date to second\n",
    "stocks_test = date_to_second(stocks_test, col_name='date')"
   ]
  },
  {
   "cell_type": "code",
   "execution_count": 40,
   "metadata": {},
   "outputs": [],
   "source": [
    "# Dropping the unnecessary columns\n",
    "stocks_test = stocks_test.drop(['id', 'ticker'], axis=1)"
   ]
  },
  {
   "cell_type": "code",
   "execution_count": 41,
   "metadata": {},
   "outputs": [],
   "source": [
    "# Separating features and target\n",
    "stocks_test_X, stocks_test_y = get_feature_target(stocks_test)"
   ]
  },
  {
   "cell_type": "code",
   "execution_count": 42,
   "metadata": {},
   "outputs": [],
   "source": [
    "# Feature scaling\n",
    "stocks_test_X = sc.transform(stocks_test_X)"
   ]
  },
  {
   "cell_type": "code",
   "execution_count": 43,
   "metadata": {},
   "outputs": [],
   "source": [
    "# Predicting the values\n",
    "stocks_test_y_pred = lin_reg.predict(stocks_test_X)"
   ]
  },
  {
   "cell_type": "code",
   "execution_count": 44,
   "metadata": {},
   "outputs": [
    {
     "name": "stdout",
     "output_type": "stream",
     "text": [
      "Mean Squared Error= 1.3098394718597799e-08\n",
      "Variance Score= 0.8658\n"
     ]
    }
   ],
   "source": [
    "# Measuring the score\n",
    "eval_metrics(stocks_test_y, stocks_test_y_pred)"
   ]
  }
 ],
 "metadata": {
  "kernelspec": {
   "display_name": "Python 3",
   "language": "python",
   "name": "python3"
  },
  "language_info": {
   "codemirror_mode": {
    "name": "ipython",
    "version": 3
   },
   "file_extension": ".py",
   "mimetype": "text/x-python",
   "name": "python",
   "nbconvert_exporter": "python",
   "pygments_lexer": "ipython3",
   "version": "3.6.7"
  }
 },
 "nbformat": 4,
 "nbformat_minor": 2
}
