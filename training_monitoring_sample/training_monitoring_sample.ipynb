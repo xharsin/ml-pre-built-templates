{
 "cells": [
  {
   "cell_type": "markdown",
   "metadata": {},
   "source": [
    "# Training Monitoring Examples"
   ]
  },
  {
   "cell_type": "markdown",
   "metadata": {},
   "source": [
    "Agnostic to the framework"
   ]
  },
  {
   "cell_type": "markdown",
   "metadata": {},
   "source": [
    "Functions to get started with Pycrayon.<br>\n",
    "\n",
    "Usage\n",
    "=====\n",
    "``` \n",
    "    expt = get_experiment(name='s2s_lr_0.1')\n",
    "    # Loss as scalar\n",
    "    for t in reversed(xrange(1000)):\n",
    "        expt.add_scalar_dict(\n",
    "            {\n",
    "                'loss_mxe/train': t+random.random()*t//5,\n",
    "                'loss_mxe/dev': 2*t*random.random()+random.random()*t//5,\n",
    "            },\n",
    "        )\n",
    "        time.sleep(0.01)\n",
    "    # Weights as hist\n",
    "    expt.add_histogram_value(\n",
    "        name='affine_1_weights',\n",
    "        hist=np.random.randn(10000,).tolist(),\n",
    "        tobuild=True,\n",
    "    )\n",
    "```\n",
    "### Visualise on monitroing\n",
    "go to monitoring tab\n",
    "\n"
   ]
  },
  {
   "cell_type": "code",
   "execution_count": null,
   "metadata": {},
   "outputs": [],
   "source": [
    "import random\n",
    "import socket\n",
    "import time\n",
    "\n",
    "import pycrayon\n",
    "import numpy as np\n",
    "\n",
    "from collections import namedtuple\n",
    "\n",
    "CrayonSettings = namedtuple('CrayonSettings', ['host', 'port'])\n",
    "CRAYON_SETTINGS = CrayonSettings(host='localhost', port='9119')\n",
    "\n",
    "\n",
    "def get_experiment(name, settings=CRAYON_SETTINGS):\n",
    "    \"\"\"Creates a pycrayon experiment object to log data to.\"\"\"\n",
    "    experiment_date = datetime.datetime.now().strftime('%Y.%m.%d-%H:%M:%S')\n",
    "    experiment_name = '{dt}_{host};{name}'.format(\n",
    "        dt=experiment_date,\n",
    "        host=socket.gethostname(),\n",
    "        name=name,\n",
    "    )\n",
    "    return get_crayon_client(settings=settings).create_experiment(experiment_name)\n",
    "\n",
    "\n",
    "def get_crayon_client(settings=CRAYON_SETTINGS):\n",
    "    return pycrayon.CrayonClient(hostname=settings.host, port=settings.port)\n",
    "\n",
    "\n",
    "def clear_expts(settings=CRAYON_SETTINGS):\n",
    "    get_crayon_client(settings=settings).remove_all_experiments()"
   ]
  },
  {
   "cell_type": "markdown",
   "metadata": {},
   "source": [
    "# Examples of logging scalar and histogram\n",
    "### Two experiments with different optimizers"
   ]
  },
  {
   "cell_type": "code",
   "execution_count": null,
   "metadata": {},
   "outputs": [],
   "source": [
    "for name in ('s2s,opt=adam', 's2s,opt=adamax'):\n",
    "    expt = get_experiment(name=name)\n",
    "    \n",
    "    # Losses\n",
    "    for t in reversed(xrange(1000)):\n",
    "        # Step number is automatically incremented if not provided.\n",
    "        expt.add_scalar_dict(\n",
    "            {\n",
    "                'loss_mxe/train': t+random.random()*t//5,\n",
    "                'loss_mxe/dev': 2*t*random.random()+random.random()*t//5,\n",
    "            },\n",
    "        )\n",
    "        time.sleep(0.001)\n",
    "        \n",
    "    # Visualize a layer's weights and gradients as histograms.\n",
    "    for i in xrange(10):\n",
    "        expt.add_histogram_value(\n",
    "            name='affine_1_weights',\n",
    "            hist=(np.random.randn(10000,)+i).tolist(),\n",
    "            tobuild=True,\n",
    "            # We could also manually set the step number.\n",
    "            step=1+i,\n",
    "        )\n",
    "        # THOU SHALT VISUALIZE YOUR GRADIENTS\n",
    "        expt.add_histogram_value(\n",
    "            name='affine_1_grads',\n",
    "            hist=((np.random.randn(10000,)*0.001)+i).tolist(),\n",
    "            tobuild=True,\n",
    "            step=1+i,\n",
    "        )"
   ]
  }
 ],
 "metadata": {
  "kernelspec": {
   "display_name": "Python 3",
   "language": "python",
   "name": "python3"
  },
  "language_info": {
   "codemirror_mode": {
    "name": "ipython",
    "version": 3
   },
   "file_extension": ".py",
   "mimetype": "text/x-python",
   "name": "python",
   "nbconvert_exporter": "python",
   "pygments_lexer": "ipython3",
   "version": "3.6.8"
  }
 },
 "nbformat": 4,
 "nbformat_minor": 2
}
