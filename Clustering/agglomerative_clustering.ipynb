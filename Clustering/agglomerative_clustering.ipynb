{
 "cells": [
  {
   "cell_type": "markdown",
   "metadata": {
    "collapsed": true
   },
   "source": [
    "# 1. Introduction\n",
    "\n",
    "In this notebook we are going to deal with a unsupervised learning (learning without teacher) problem called Agglomerative clustering.\n",
    "\n",
    "## 1.1. Clustering\n",
    "\n",
    "The Target of clustering is to find a function which can divide the dataset into the groups known as clusters. This function divide the dataset in way that similar data instances are assigned to the same cluster, as a result dissimilar objects are assigned to different clusters. **Hierarchical Clustering** is a type of clustering which is further divided into two types of clustering :\n",
    "    1. Agglomerative clustering - Bottom up approach.\n",
    "    2. Divisive clustering - Top down approach.\n",
    "    \n",
    "**Agglomerative clustering** is targeted in this notebook.\n",
    "\n",
    "### 1.1.1 Agglomerative clustering\n",
    "It is a method of clustering which follows an iterative bottom up approach. The procedure of this algorithms follows 3 steps mainly. \n",
    "\n",
    "    1. First, each data point is put into its own cluster of one item.\n",
    "    2. Then, a sequence of clusterings are done where the most similar two clusters at each stage are merged into a new cluster.\n",
    "    3. Then, this process is repeated until some stopping condition is met. In scikit-learn, the stopping condition is the number of clusters.\n",
    "\n",
    "Three different linkage criteria(can be used to minimize varients) can be in Agglomerative clustering.\n",
    "    1. Ward's method- Least increase in total variance (around the cluster centroids).\n",
    "    2. Average linkage - Average distance between clusters.\n",
    "    3. Complete linkage - Max distance between clsuters.\n",
    "\n",
    "# 2. Steps Involved:\n",
    "    0. Importing the required libraries - For importing all the dependencies.\n",
    "    1. Making the Fucntions of the required steps.\n",
    "    2. Importing dataset - For importing Dataset in the programm.\n",
    "    3. Feature Engineering - For getting features from the dataset.\n",
    "    4. Exploratory Data Analysis (EDA) - for checking the nature and structure of the dataset \n",
    "    5. Model Building - For Building the model (using sklearn).\n",
    "    6. Model Fitting - Fitting the model for clustering.\n",
    "    7. Saving the model - For re-use.\n",
    "    8. Loading the model - for loading the trained model\n",
    "    9. Evaluation of the model - For cheking the utility of the model.   \n",
    "\n",
    "# 3. Prerequisties \n",
    "\n",
    "## 3.1 Dataset \n",
    "Mall_Customers.csv has been used as dataset which is consist of 5 columns:\n",
    "    1. CustomerID\n",
    "    2. Genre \n",
    "    3. Age\n",
    "    4. Annual Income\n",
    "    5. Spending Score\n",
    "## 3.2 Libraries Requirements \n",
    "    scikit-learn == 0.19.1\n",
    "    scipy == 1.1.0\n",
    "    pandas == 0.23.1\n",
    "    matplotlib == 2.0.2\n",
    "    numpy == 1.16.3\n",
    "    pickle == 0.7.4\n",
    "    \n",
    "# 4. Use Case\n",
    "Some famous use cases of Agglomerative clustering are :\n",
    "    1. Charting Evolution through Phylogenetic Trees\n",
    "    2. Tracking Viruses through Phylogenetic Trees"
   ]
  },
  {
   "cell_type": "markdown",
   "metadata": {},
   "source": [
    "## Step 0. Importing the required libraries"
   ]
  },
  {
   "cell_type": "code",
   "execution_count": 50,
   "metadata": {
    "collapsed": true
   },
   "outputs": [],
   "source": [
    "import numpy as np\n",
    "import matplotlib.pyplot as plt\n",
    "import pandas as pd\n",
    "import scipy.cluster.hierarchy as sch\n",
    "from sklearn.cluster import AgglomerativeClustering\n",
    "import pickle"
   ]
  },
  {
   "cell_type": "markdown",
   "metadata": {},
   "source": [
    "## Step 1. Making the Fucntions of the required steps"
   ]
  },
  {
   "cell_type": "code",
   "execution_count": 51,
   "metadata": {
    "collapsed": false
   },
   "outputs": [],
   "source": [
    "# FUNCTION FOR IMPORTING THE DATASET\n",
    "# Input:path of the dataset (CSV)\n",
    "# Output:dataframe \n",
    "                                   \n",
    "def import_dataset(path):\n",
    "  rd=pd.read_csv(path)\n",
    "  return rd"
   ]
  },
  {
   "cell_type": "code",
   "execution_count": 52,
   "metadata": {
    "collapsed": false
   },
   "outputs": [],
   "source": [
    "# FUNCTION FOR SPLITING THE DATASET INTO TRAIN DATASET\n",
    "# Input:dataframe\n",
    "# Output:train dataset\n",
    "\n",
    "def split_dataset(rd):\n",
    "    X=rd.iloc[:,[3,4]].values\n",
    "    return X"
   ]
  },
  {
   "cell_type": "code",
   "execution_count": 53,
   "metadata": {
    "collapsed": true
   },
   "outputs": [],
   "source": [
    "# FUNCTION OF INSTIALISING DENDOGRAM\n",
    "# Input:training Dataset\n",
    "# Output:dendogram which can be used for visualizarion\n",
    "\n",
    "def dendrogram_instialise(X):\n",
    "    dendrogram= sch.dendrogram(sch.linkage(X, method='ward'))\n",
    "    return dendrogram"
   ]
  },
  {
   "cell_type": "code",
   "execution_count": 54,
   "metadata": {
    "collapsed": true
   },
   "outputs": [],
   "source": [
    "# FUNCTION OF BUILDING THE MODEL\n",
    "# Input:null\n",
    "# Output:empty_instialised_model\n",
    "\n",
    "def model_build():\n",
    "    hc=AgglomerativeClustering(n_clusters=5, affinity=\"euclidean\", linkage='ward')\n",
    "    return hc"
   ]
  },
  {
   "cell_type": "code",
   "execution_count": 55,
   "metadata": {
    "collapsed": true
   },
   "outputs": [],
   "source": [
    "# FUNCTION FOR FITTING THE MODEL\n",
    "# Input:empty_instialised_model and training set\n",
    "# Trained model:trained_model\n",
    "\n",
    "def model_fit(hc,X):\n",
    "    model=hc.fit_predict(X)\n",
    "    return model"
   ]
  },
  {
   "cell_type": "code",
   "execution_count": 56,
   "metadata": {
    "collapsed": true
   },
   "outputs": [],
   "source": [
    "# FUNCTION FOR SAVING THE MODEL \n",
    "# Input:trained_model\n",
    "# Output:Null(model will be saved in the directory)\n",
    "\n",
    "\n",
    "def model_save(model):\n",
    "    pickle.dump(model, open('models/agglomerative.pickle', 'wb'))"
   ]
  },
  {
   "cell_type": "code",
   "execution_count": 57,
   "metadata": {
    "collapsed": true
   },
   "outputs": [],
   "source": [
    "# FUNCTION FOR LOADING THE MODEL\n",
    "# Input:path_for saving the model\n",
    "# Output:loaded model\n",
    "\n",
    "def model_load(path_model):\n",
    "    model_loaded=pickle.load(open(path_model, 'rb'))\n",
    "    return model_loaded"
   ]
  },
  {
   "cell_type": "markdown",
   "metadata": {},
   "source": [
    "## Step 2. Importing dataset"
   ]
  },
  {
   "cell_type": "code",
   "execution_count": 58,
   "metadata": {
    "collapsed": false
   },
   "outputs": [],
   "source": [
    "# Importing CSV\n",
    "path = 'data/Mall_Customers.csv'\n",
    "df = import_dataset(path)"
   ]
  },
  {
   "cell_type": "markdown",
   "metadata": {},
   "source": [
    "## Step 3. Feature Engineering "
   ]
  },
  {
   "cell_type": "code",
   "execution_count": 59,
   "metadata": {
    "collapsed": true
   },
   "outputs": [],
   "source": [
    "# Feature Extraction\n",
    "# Taking column 3 & 4 as main features for clustering \n",
    "X = split_dataset(df)"
   ]
  },
  {
   "cell_type": "markdown",
   "metadata": {},
   "source": [
    "## Step 4. Exploratory Data Analysis "
   ]
  },
  {
   "cell_type": "code",
   "execution_count": 60,
   "metadata": {
    "collapsed": false
   },
   "outputs": [
    {
     "name": "stdout",
     "output_type": "stream",
     "text": [
      "<class 'pandas.core.frame.DataFrame'>\n",
      "RangeIndex: 200 entries, 0 to 199\n",
      "Data columns (total 5 columns):\n",
      "CustomerID                200 non-null int64\n",
      "Genre                     200 non-null object\n",
      "Age                       200 non-null int64\n",
      "Annual Income (k$)        200 non-null int64\n",
      "Spending Score (1-100)    200 non-null int64\n",
      "dtypes: int64(4), object(1)\n",
      "memory usage: 7.9+ KB\n"
     ]
    }
   ],
   "source": [
    "# Checking the structure of the Data.\n",
    "df.info()"
   ]
  },
  {
   "cell_type": "code",
   "execution_count": 61,
   "metadata": {
    "collapsed": false
   },
   "outputs": [
    {
     "data": {
      "text/plain": [
       "(200, 5)"
      ]
     },
     "execution_count": 61,
     "metadata": {},
     "output_type": "execute_result"
    }
   ],
   "source": [
    "# Checking the shape of the data\n",
    "# First entry represent number of rows and second represents number of columns\n",
    "df.shape"
   ]
  },
  {
   "cell_type": "code",
   "execution_count": 62,
   "metadata": {
    "collapsed": false
   },
   "outputs": [
    {
     "data": {
      "text/html": [
       "<div>\n",
       "<style scoped>\n",
       "    .dataframe tbody tr th:only-of-type {\n",
       "        vertical-align: middle;\n",
       "    }\n",
       "\n",
       "    .dataframe tbody tr th {\n",
       "        vertical-align: top;\n",
       "    }\n",
       "\n",
       "    .dataframe thead th {\n",
       "        text-align: right;\n",
       "    }\n",
       "</style>\n",
       "<table border=\"1\" class=\"dataframe\">\n",
       "  <thead>\n",
       "    <tr style=\"text-align: right;\">\n",
       "      <th></th>\n",
       "      <th>CustomerID</th>\n",
       "      <th>Genre</th>\n",
       "      <th>Age</th>\n",
       "      <th>Annual Income (k$)</th>\n",
       "      <th>Spending Score (1-100)</th>\n",
       "    </tr>\n",
       "  </thead>\n",
       "  <tbody>\n",
       "    <tr>\n",
       "      <th>0</th>\n",
       "      <td>1</td>\n",
       "      <td>Male</td>\n",
       "      <td>19</td>\n",
       "      <td>15</td>\n",
       "      <td>39</td>\n",
       "    </tr>\n",
       "    <tr>\n",
       "      <th>1</th>\n",
       "      <td>2</td>\n",
       "      <td>Male</td>\n",
       "      <td>21</td>\n",
       "      <td>15</td>\n",
       "      <td>81</td>\n",
       "    </tr>\n",
       "    <tr>\n",
       "      <th>2</th>\n",
       "      <td>3</td>\n",
       "      <td>Female</td>\n",
       "      <td>20</td>\n",
       "      <td>16</td>\n",
       "      <td>6</td>\n",
       "    </tr>\n",
       "    <tr>\n",
       "      <th>3</th>\n",
       "      <td>4</td>\n",
       "      <td>Female</td>\n",
       "      <td>23</td>\n",
       "      <td>16</td>\n",
       "      <td>77</td>\n",
       "    </tr>\n",
       "    <tr>\n",
       "      <th>4</th>\n",
       "      <td>5</td>\n",
       "      <td>Female</td>\n",
       "      <td>31</td>\n",
       "      <td>17</td>\n",
       "      <td>40</td>\n",
       "    </tr>\n",
       "  </tbody>\n",
       "</table>\n",
       "</div>"
      ],
      "text/plain": [
       "   CustomerID   Genre  Age  Annual Income (k$)  Spending Score (1-100)\n",
       "0           1    Male   19                  15                      39\n",
       "1           2    Male   21                  15                      81\n",
       "2           3  Female   20                  16                       6\n",
       "3           4  Female   23                  16                      77\n",
       "4           5  Female   31                  17                      40"
      ]
     },
     "execution_count": 62,
     "metadata": {},
     "output_type": "execute_result"
    }
   ],
   "source": [
    "# Checking the dataset\n",
    "df.head() "
   ]
  },
  {
   "cell_type": "code",
   "execution_count": 63,
   "metadata": {
    "collapsed": false
   },
   "outputs": [
    {
     "data": {
      "image/png": "[encoded data removed]",
      "text/plain": [
       "<matplotlib.figure.Figure at 0x7f99c45f0278>"
      ]
     },
     "metadata": {},
     "output_type": "display_data"
    }
   ],
   "source": [
    "# Checking the structure of the existing clusters in the dataset using dendograms.\n",
    "# x-axis:customers\n",
    "# y-axis:euclidean distances\n",
    "\n",
    "dendrogram = dendrogram_instialise(X)\n",
    "plt.title('Dendrogram')\n",
    "plt.xlabel('Customers')\n",
    "plt.ylabel('Euclidena distances')\n",
    "plt.show()"
   ]
  },
  {
   "cell_type": "markdown",
   "metadata": {},
   "source": [
    "## Step 5. Building the model"
   ]
  },
  {
   "cell_type": "code",
   "execution_count": 64,
   "metadata": {
    "collapsed": true
   },
   "outputs": [],
   "source": [
    "# Building the basic model\n",
    "\n",
    "hc = model_build()"
   ]
  },
  {
   "cell_type": "markdown",
   "metadata": {},
   "source": [
    "## Step 6. Model Fitting"
   ]
  },
  {
   "cell_type": "code",
   "execution_count": 65,
   "metadata": {
    "collapsed": true
   },
   "outputs": [],
   "source": [
    "# Fitting the model on training dataset \n",
    "model = model_fit(hc,X)"
   ]
  },
  {
   "cell_type": "markdown",
   "metadata": {},
   "source": [
    "## Step 7. Saving the model"
   ]
  },
  {
   "cell_type": "code",
   "execution_count": 66,
   "metadata": {
    "collapsed": true
   },
   "outputs": [],
   "source": [
    "# saving the model in the directory\n",
    "filename = model_save(model)"
   ]
  },
  {
   "cell_type": "markdown",
   "metadata": {},
   "source": [
    "## Step 8. Loading the model"
   ]
  },
  {
   "cell_type": "code",
   "execution_count": 67,
   "metadata": {
    "collapsed": true
   },
   "outputs": [],
   "source": [
    "# Loading the model from the directory \n",
    "path_model = 'models/agglomerative.pickle'\n",
    "y_hc = model_load(path_model)"
   ]
  },
  {
   "cell_type": "markdown",
   "metadata": {},
   "source": [
    "## Step 9.  Evaluation of the model"
   ]
  },
  {
   "cell_type": "code",
   "execution_count": 68,
   "metadata": {
    "collapsed": false
   },
   "outputs": [
    {
     "data": {
      "text/plain": [
       "<matplotlib.collections.PathCollection at 0x7f99c4307668>"
      ]
     },
     "execution_count": 68,
     "metadata": {},
     "output_type": "execute_result"
    }
   ],
   "source": [
    "#visualising the cluster as results to evaluate the model\n",
    "plt.scatter(X[y_hc==0,0],X[y_hc==0,1],s=100,c='red',label='Careful')\n",
    "plt.scatter(X[y_hc==1,0],X[y_hc==1,1],s=100,c='blue',label='Standard')\n",
    "plt.scatter(X[y_hc==2,0],X[y_hc==2,1],s=100,c='green',label='Target')\n",
    "plt.scatter(X[y_hc==3,0],X[y_hc==3,1],s=100,c='cyan',label='Careful')\n",
    "plt.scatter(X[y_hc==4,0],X[y_hc==4,1],s=100,c='magenta',label='Sensible')"
   ]
  },
  {
   "cell_type": "code",
   "execution_count": 69,
   "metadata": {
    "collapsed": false
   },
   "outputs": [
    {
     "data": {
      "image/png": "[encoded data removed]",
      "text/plain": [
       "<matplotlib.figure.Figure at 0x7f99c43a2e48>"
      ]
     },
     "metadata": {},
     "output_type": "display_data"
    }
   ],
   "source": [
    "plt.title('Clusters of Clients')\n",
    "plt.xlabel('Annual Income (k$)')\n",
    "plt.ylabel('Spending Score (1-100)')\n",
    "plt.legend()\n",
    "plt.show()"
   ]
  }
 ],
 "metadata": {
  "anaconda-cloud": {},
  "kernelspec": {
   "display_name": "Python [default]",
   "language": "python",
   "name": "python3"
  },
  "language_info": {
   "codemirror_mode": {
    "name": "ipython",
    "version": 3
   },
   "file_extension": ".py",
   "mimetype": "text/x-python",
   "name": "python",
   "nbconvert_exporter": "python",
   "pygments_lexer": "ipython3",
   "version": "3.5.2"
  }
 },
 "nbformat": 4,
 "nbformat_minor": 1
}
