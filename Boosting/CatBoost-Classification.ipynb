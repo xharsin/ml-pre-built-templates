{
 "cells": [
  {
   "cell_type": "markdown",
   "metadata": {},
   "source": [
    "# 1. Introduction\n",
    "\n",
    "In this notebook we are going to deal with a supervised learning(learning with a teacher) problem called **Classification** using a boosting technique, CatBoost.\n",
    "\n",
    "## 1.1. Classification\n",
    "\n",
    "It is one type of supervised learning method where the target variable is categorical. The problem can be of binary class classification i.e. whether an email is spam or not, loan will be default or not etc. or it can be multiclass classification, predicting the type of fruit on the shape, size and colour.\n",
    "\n",
    "There are numerous techniques to solve such task. In this notebook we are going to use Amazon Employees Resource Access classifier using CatBoost which is based on boosting. Boosting is an ensemble method of learning, that used to combine weak classifiers into a strong one.\n",
    "\n",
    "### 1.1.1 CatBoost\n",
    "CatBoost is developed by Yandex Research Lab at Moscow. The major strength of CatBoost is that it can work with categorical data without throwing any error like scikit-learn do. It has one-hot encoder already coded insided it. We only need to specify the categorical feature and rest is all done by catboost. CatBoost uses boosting concept. It prevents overfiiting of the model because the trees learned at every iterations are different(generates a random permutation from samples every time). CatBoost can also work with missing values.\n",
    "\n",
    "# 2. Steps Involved:\n",
    "    0. Importing the required libraries - for importing all the dependencies\n",
    "    1. Making functions of the required steps\n",
    "    2. Importing dataset\n",
    "    3. Exploratory Data Analysis (EDA) - for checking the nature and structure of the dataset\n",
    "    4. Feature Engineering - for getting features from the dataset\n",
    "    5. Model Building - for building the model (using catboost)\n",
    "    6. Model Training - fitting the model for classification\n",
    "    7. Model Visualization\n",
    "    8. Model Testing\n",
    "    9. Model Evaluation\n",
    "    10.Saving the model - for re-use\n",
    "    \n",
    "# 3. Prerequisites\n",
    "\n",
    "## 3.1 Dataset \n",
    "amazon_employee_train.csv has been used as dataset which consist of 10 columns:\n",
    "    1. ACTION\n",
    "    2. RESOURCE\n",
    "    3. MGR_ID\n",
    "    4. ROLE_ROLLUP_1\n",
    "    5. ROLE_ROLLUP_2\n",
    "    6. ROLE_DEPTNAME\n",
    "    7. ROLE_TITLE\n",
    "    8. ROLE_FAMILY_DESC\n",
    "    9. ROLE_FAMILY\n",
    "    10.ROLE_CODE\n",
    "    \n",
    "## 3.2 Libraries Required\n",
    "``` \n",
    "    numpy == 1.16.3\n",
    "    pandas == 0.24.2\n",
    "    matplotlib == 3.0.3\n",
    "    scikit_learn == 0.21.2\n",
    "    catboost == 0.15.1\n",
    "```\n",
    "    \n",
    "# 4. Use Case\n",
    "Some famous use cases of CatBoost are :\n",
    "    1. HR Analytics for predicting the Employee Attrition\n",
    "    2. In retail for predicting the item to be bought by customer"
   ]
  },
  {
   "cell_type": "markdown",
   "metadata": {},
   "source": [
    "## Step 0. Importing the required libraries"
   ]
  },
  {
   "cell_type": "code",
   "execution_count": 1,
   "metadata": {},
   "outputs": [],
   "source": [
    "import pandas as pd\n",
    "import numpy as np\n",
    "\n",
    "from matplotlib import pyplot as plt\n",
    "import pickle\n",
    "\n",
    "# Preprocessing and Training\n",
    "from sklearn.model_selection import train_test_split\n",
    "from catboost import CatBoostClassifier\n",
    "\n",
    "# Evaluation\n",
    "from sklearn.metrics import accuracy_score, classification_report"
   ]
  },
  {
   "cell_type": "markdown",
   "metadata": {},
   "source": [
    "## Step 1. Making functions of the required steps"
   ]
  },
  {
   "cell_type": "code",
   "execution_count": 2,
   "metadata": {},
   "outputs": [],
   "source": [
    "# FUNCTION FOR IMPORTING THE DATASET\n",
    "# Input: path of the dataset (CSV)\n",
    "# Output: dataframe \n",
    "\n",
    "def import_dataset(path):\n",
    "    df = pd.read_csv(path)\n",
    "    return df"
   ]
  },
  {
   "cell_type": "code",
   "execution_count": 3,
   "metadata": {},
   "outputs": [],
   "source": [
    "# FUNCTION FOR CHECKING DUPLiCATE ROWS\n",
    "# Input : dataframe\n",
    "# Output: no. of duplicate rows\n",
    "\n",
    "def num_duplicate(df):\n",
    "    return len(df[df.duplicated() == True])"
   ]
  },
  {
   "cell_type": "code",
   "execution_count": 4,
   "metadata": {},
   "outputs": [],
   "source": [
    "# FUNCTION FOR COUNTING VALUES OF EACH COLUMNS\n",
    "# Input: dataframe\n",
    "# Output: column names with the count of unique values\n",
    "\n",
    "def count_unique_vals(df):\n",
    "    for col in df.columns:\n",
    "        print(col, df[col].nunique())"
   ]
  },
  {
   "cell_type": "code",
   "execution_count": 5,
   "metadata": {},
   "outputs": [],
   "source": [
    "# FUNCTION FOR PLOTTING CATEGORIES\n",
    "# Input: dataframe and column name\n",
    "# Output: bar graph that shows the distribution of values of each category.\n",
    "\n",
    "def plt_category(df, col_name):\n",
    "    font_style = {'size':14, 'weight':'bold', 'color':'#000000'}\n",
    "    df[col_name].value_counts().plot(kind='bar', color=['#005f00', '#8f0000'], \n",
    "                                     alpha=0.8)\n",
    "    \n",
    "    plt.xlabel('ACTION', fontdict=font_style)\n",
    "    plt.ylabel('Count', fontdict=font_style)\n",
    "    plt.show()"
   ]
  },
  {
   "cell_type": "code",
   "execution_count": 6,
   "metadata": {},
   "outputs": [],
   "source": [
    "# FUNCTION FOR GETTING FEATURE AND LABEL\n",
    "# Input: dataframe\n",
    "# Output: numpy array of feature and label\n",
    "\n",
    "def get_feature_label(df):\n",
    "    X = df.iloc[:, 1:].values\n",
    "    y = df.iloc[:, 0].values\n",
    "    \n",
    "    return X, y"
   ]
  },
  {
   "cell_type": "code",
   "execution_count": 7,
   "metadata": {},
   "outputs": [],
   "source": [
    "# FUNCTION FOR SPLITTING DATASET INTO TRAIN AND TEST\n",
    "# Input: Input features and label\n",
    "# Output: Splitted dataset into train and test\n",
    "\n",
    "def split_data(X, y):\n",
    "    X_train, X_test, y_train, y_test = train_test_split(X, y, test_size=0.2,\n",
    "                                                        random_state=5, stratify=y)\n",
    "    return X_train, X_test, y_train, y_test"
   ]
  },
  {
   "cell_type": "code",
   "execution_count": 8,
   "metadata": {},
   "outputs": [],
   "source": [
    "# FUNCTION FOR BUILDING THE MODEL\n",
    "# Input: parameters dictionary\n",
    "# Output: catboost object\n",
    "\n",
    "def build_model(params):\n",
    "    cat_boost_clf = CatBoostClassifier(**params)\n",
    "    return cat_boost_clf"
   ]
  },
  {
   "cell_type": "code",
   "execution_count": 9,
   "metadata": {},
   "outputs": [],
   "source": [
    "# FUNCTION FOR MODEL TRAINING\n",
    "# Input: model object, training set and training labels\n",
    "# Output: trained model\n",
    "\n",
    "def train_model(cat_boost_clf, X_train, y_train):\n",
    "    cat_boost_clf.fit(X_train, y_train);"
   ]
  },
  {
   "cell_type": "code",
   "execution_count": 10,
   "metadata": {},
   "outputs": [],
   "source": [
    "# FUNCTION FOR PLOTTING ERROR RATE VS ITERATION\n",
    "# Input: dataframe and column name\n",
    "# Output: line plot\n",
    "\n",
    "def plt_scores(df, col_name):\n",
    "    plt.plot(df['iter'], df[col_name], linewidth=2)\n",
    "    plt.xlabel('Iteration')\n",
    "    plt.ylabel(col_name)\n",
    "    plt.title(col_name + ' vs Iteration')\n",
    "    plt.show()"
   ]
  },
  {
   "cell_type": "code",
   "execution_count": 11,
   "metadata": {},
   "outputs": [],
   "source": [
    "# FUNCTION FOR MODEL EVALUATION\n",
    "# Input: True values and predicted values\n",
    "# Output: Accuracy score and classification report\n",
    "\n",
    "def eval_model(y_test, y_pred):\n",
    "    accuracy = accuracy_score(y_test, y_pred)\n",
    "    clf_report = classification_report(y_test, y_pred)\n",
    "    \n",
    "    print(\"Accuracy= {:.2f}%\".format(100 * accuracy))\n",
    "    print(\"Classification report:\", clf_report, sep='\\n')"
   ]
  },
  {
   "cell_type": "code",
   "execution_count": 12,
   "metadata": {},
   "outputs": [],
   "source": [
    "# FUNCTION FOR SAVING THE MODEL\n",
    "# Input: model object, file name\n",
    "# Output: pickle file of the model\n",
    "\n",
    "def save_pickle(model_object, file_name):\n",
    "    file_pkl = open(file_name, 'wb')\n",
    "    pickle.dump(model_object, file_pkl)\n",
    "    file_pkl.close()"
   ]
  },
  {
   "cell_type": "markdown",
   "metadata": {},
   "source": [
    "## Step 2. Importing dataset"
   ]
  },
  {
   "cell_type": "code",
   "execution_count": 13,
   "metadata": {},
   "outputs": [],
   "source": [
    "# Importing CSV\n",
    "path = 'data/amazon_employee.csv'\n",
    "amazon = import_dataset(path)"
   ]
  },
  {
   "cell_type": "markdown",
   "metadata": {},
   "source": [
    "## Step 3. Exploratory Data Analysis"
   ]
  },
  {
   "cell_type": "code",
   "execution_count": 14,
   "metadata": {},
   "outputs": [
    {
     "name": "stdout",
     "output_type": "stream",
     "text": [
      "<class 'pandas.core.frame.DataFrame'>\n",
      "RangeIndex: 32769 entries, 0 to 32768\n",
      "Data columns (total 10 columns):\n",
      "ACTION              32769 non-null int64\n",
      "RESOURCE            32769 non-null int64\n",
      "MGR_ID              32769 non-null int64\n",
      "ROLE_ROLLUP_1       32769 non-null int64\n",
      "ROLE_ROLLUP_2       32769 non-null int64\n",
      "ROLE_DEPTNAME       32769 non-null int64\n",
      "ROLE_TITLE          32769 non-null int64\n",
      "ROLE_FAMILY_DESC    32769 non-null int64\n",
      "ROLE_FAMILY         32769 non-null int64\n",
      "ROLE_CODE           32769 non-null int64\n",
      "dtypes: int64(10)\n",
      "memory usage: 2.5 MB\n"
     ]
    }
   ],
   "source": [
    "# Checking the structure of data\n",
    "amazon.info()"
   ]
  },
  {
   "cell_type": "code",
   "execution_count": 15,
   "metadata": {},
   "outputs": [
    {
     "data": {
      "text/plain": [
       "(32769, 10)"
      ]
     },
     "execution_count": 15,
     "metadata": {},
     "output_type": "execute_result"
    }
   ],
   "source": [
    "# Checking the shape of data\n",
    "# First entry represent the number of rows and second represents columns\n",
    "amazon.shape"
   ]
  },
  {
   "cell_type": "code",
   "execution_count": 16,
   "metadata": {},
   "outputs": [
    {
     "data": {
      "text/html": [
       "<div>\n",
       "<style scoped>\n",
       "    .dataframe tbody tr th:only-of-type {\n",
       "        vertical-align: middle;\n",
       "    }\n",
       "\n",
       "    .dataframe tbody tr th {\n",
       "        vertical-align: top;\n",
       "    }\n",
       "\n",
       "    .dataframe thead th {\n",
       "        text-align: right;\n",
       "    }\n",
       "</style>\n",
       "<table border=\"1\" class=\"dataframe\">\n",
       "  <thead>\n",
       "    <tr style=\"text-align: right;\">\n",
       "      <th></th>\n",
       "      <th>ACTION</th>\n",
       "      <th>RESOURCE</th>\n",
       "      <th>MGR_ID</th>\n",
       "      <th>ROLE_ROLLUP_1</th>\n",
       "      <th>ROLE_ROLLUP_2</th>\n",
       "      <th>ROLE_DEPTNAME</th>\n",
       "      <th>ROLE_TITLE</th>\n",
       "      <th>ROLE_FAMILY_DESC</th>\n",
       "      <th>ROLE_FAMILY</th>\n",
       "      <th>ROLE_CODE</th>\n",
       "    </tr>\n",
       "  </thead>\n",
       "  <tbody>\n",
       "    <tr>\n",
       "      <th>0</th>\n",
       "      <td>1</td>\n",
       "      <td>39353</td>\n",
       "      <td>85475</td>\n",
       "      <td>117961</td>\n",
       "      <td>118300</td>\n",
       "      <td>123472</td>\n",
       "      <td>117905</td>\n",
       "      <td>117906</td>\n",
       "      <td>290919</td>\n",
       "      <td>117908</td>\n",
       "    </tr>\n",
       "    <tr>\n",
       "      <th>1</th>\n",
       "      <td>1</td>\n",
       "      <td>17183</td>\n",
       "      <td>1540</td>\n",
       "      <td>117961</td>\n",
       "      <td>118343</td>\n",
       "      <td>123125</td>\n",
       "      <td>118536</td>\n",
       "      <td>118536</td>\n",
       "      <td>308574</td>\n",
       "      <td>118539</td>\n",
       "    </tr>\n",
       "    <tr>\n",
       "      <th>2</th>\n",
       "      <td>1</td>\n",
       "      <td>36724</td>\n",
       "      <td>14457</td>\n",
       "      <td>118219</td>\n",
       "      <td>118220</td>\n",
       "      <td>117884</td>\n",
       "      <td>117879</td>\n",
       "      <td>267952</td>\n",
       "      <td>19721</td>\n",
       "      <td>117880</td>\n",
       "    </tr>\n",
       "    <tr>\n",
       "      <th>3</th>\n",
       "      <td>1</td>\n",
       "      <td>36135</td>\n",
       "      <td>5396</td>\n",
       "      <td>117961</td>\n",
       "      <td>118343</td>\n",
       "      <td>119993</td>\n",
       "      <td>118321</td>\n",
       "      <td>240983</td>\n",
       "      <td>290919</td>\n",
       "      <td>118322</td>\n",
       "    </tr>\n",
       "    <tr>\n",
       "      <th>4</th>\n",
       "      <td>1</td>\n",
       "      <td>42680</td>\n",
       "      <td>5905</td>\n",
       "      <td>117929</td>\n",
       "      <td>117930</td>\n",
       "      <td>119569</td>\n",
       "      <td>119323</td>\n",
       "      <td>123932</td>\n",
       "      <td>19793</td>\n",
       "      <td>119325</td>\n",
       "    </tr>\n",
       "  </tbody>\n",
       "</table>\n",
       "</div>"
      ],
      "text/plain": [
       "   ACTION  RESOURCE  MGR_ID  ROLE_ROLLUP_1  ROLE_ROLLUP_2  ROLE_DEPTNAME  \\\n",
       "0       1     39353   85475         117961         118300         123472   \n",
       "1       1     17183    1540         117961         118343         123125   \n",
       "2       1     36724   14457         118219         118220         117884   \n",
       "3       1     36135    5396         117961         118343         119993   \n",
       "4       1     42680    5905         117929         117930         119569   \n",
       "\n",
       "   ROLE_TITLE  ROLE_FAMILY_DESC  ROLE_FAMILY  ROLE_CODE  \n",
       "0      117905            117906       290919     117908  \n",
       "1      118536            118536       308574     118539  \n",
       "2      117879            267952        19721     117880  \n",
       "3      118321            240983       290919     118322  \n",
       "4      119323            123932        19793     119325  "
      ]
     },
     "execution_count": 16,
     "metadata": {},
     "output_type": "execute_result"
    }
   ],
   "source": [
    "# Checking the dataset\n",
    "amazon.head()"
   ]
  },
  {
   "cell_type": "code",
   "execution_count": 17,
   "metadata": {},
   "outputs": [
    {
     "name": "stdout",
     "output_type": "stream",
     "text": [
      "ACTION 2\n",
      "RESOURCE 7518\n",
      "MGR_ID 4243\n",
      "ROLE_ROLLUP_1 128\n",
      "ROLE_ROLLUP_2 177\n",
      "ROLE_DEPTNAME 449\n",
      "ROLE_TITLE 343\n",
      "ROLE_FAMILY_DESC 2358\n",
      "ROLE_FAMILY 67\n",
      "ROLE_CODE 343\n"
     ]
    }
   ],
   "source": [
    "# Counting unique values in each column\n",
    "count_unique_vals(amazon)"
   ]
  },
  {
   "cell_type": "markdown",
   "metadata": {},
   "source": [
    "**All features are categorical. `ACTION` is the target feature here.**"
   ]
  },
  {
   "cell_type": "code",
   "execution_count": 18,
   "metadata": {},
   "outputs": [
    {
     "data": {
      "image/png": "[encoded data removed]",
      "text/plain": [
       "<Figure size 360x360 with 1 Axes>"
      ]
     },
     "metadata": {},
     "output_type": "display_data"
    }
   ],
   "source": [
    "# Plotting distribution of ACTION\n",
    "\n",
    "# Plot style\n",
    "plt.style.use('fivethirtyeight')\n",
    "# Plot size\n",
    "plt.rcParams['figure.figsize'] = [5, 5]\n",
    "\n",
    "plt_category(df=amazon, col_name='ACTION')"
   ]
  },
  {
   "cell_type": "markdown",
   "metadata": {},
   "source": [
    "## Step 4. Feature Engineering"
   ]
  },
  {
   "cell_type": "code",
   "execution_count": 19,
   "metadata": {},
   "outputs": [],
   "source": [
    "# Getting feature and label\n",
    "X, y = get_feature_label(amazon)"
   ]
  },
  {
   "cell_type": "code",
   "execution_count": 20,
   "metadata": {},
   "outputs": [],
   "source": [
    "# Splitting dataset into train and test set\n",
    "X_train, X_test, y_train, y_test = split_data(X, y)"
   ]
  },
  {
   "cell_type": "code",
   "execution_count": 21,
   "metadata": {},
   "outputs": [],
   "source": [
    "# List of categorical features\n",
    "cat_features = list(range(X.shape[1]))"
   ]
  },
  {
   "cell_type": "markdown",
   "metadata": {},
   "source": [
    "## Step 5. Model Building"
   ]
  },
  {
   "cell_type": "code",
   "execution_count": 22,
   "metadata": {},
   "outputs": [],
   "source": [
    "# Setting up the hyperparameters\n",
    "params = {'loss_function':'Logloss',\n",
    "          'eval_metric':'Accuracy',\n",
    "          'cat_features': cat_features,\n",
    "          'early_stopping_rounds': 200,\n",
    "          'verbose': 200,\n",
    "          'random_seed': 5\n",
    "         }"
   ]
  },
  {
   "cell_type": "code",
   "execution_count": 23,
   "metadata": {},
   "outputs": [],
   "source": [
    "# Building the model\n",
    "cat_boost_clf = build_model(params)"
   ]
  },
  {
   "cell_type": "markdown",
   "metadata": {},
   "source": [
    "## Step 6. Model Training"
   ]
  },
  {
   "cell_type": "code",
   "execution_count": 24,
   "metadata": {},
   "outputs": [
    {
     "name": "stdout",
     "output_type": "stream",
     "text": [
      "Learning rate set to 0.044978\n",
      "0:\tlearn: 0.9421099\ttotal: 77.5ms\tremaining: 1m 17s\n",
      "200:\tlearn: 0.9530959\ttotal: 9.72s\tremaining: 38.7s\n",
      "400:\tlearn: 0.9554762\ttotal: 19.9s\tremaining: 29.8s\n",
      "600:\tlearn: 0.9570631\ttotal: 30.4s\tremaining: 20.2s\n",
      "800:\tlearn: 0.9579786\ttotal: 43s\tremaining: 10.7s\n",
      "999:\tlearn: 0.9588941\ttotal: 54s\tremaining: 0us\n"
     ]
    }
   ],
   "source": [
    "# Training the model\n",
    "train_model(cat_boost_clf, X, y)"
   ]
  },
  {
   "cell_type": "markdown",
   "metadata": {},
   "source": [
    "## Step 7. Model Visualization"
   ]
  },
  {
   "cell_type": "code",
   "execution_count": 25,
   "metadata": {},
   "outputs": [],
   "source": [
    "# Read the tsv generated after training the model\n",
    "acc_vals = pd.read_csv('catboost_info/learn_error.tsv', sep='\\t')"
   ]
  },
  {
   "cell_type": "code",
   "execution_count": 26,
   "metadata": {},
   "outputs": [
    {
     "data": {
      "image/png": "[encoded data removed]",
      "text/plain": [
       "<Figure size 576x432 with 1 Axes>"
      ]
     },
     "metadata": {},
     "output_type": "display_data"
    }
   ],
   "source": [
    "# Visualizing accuracy vs iteration\n",
    "\n",
    "# Plot style\n",
    "plt.style.use('ggplot')\n",
    "# Plot size\n",
    "plt.rcParams['figure.figsize'] = [8, 6]\n",
    "\n",
    "plt_scores(acc_vals, col_name='Accuracy')"
   ]
  },
  {
   "cell_type": "code",
   "execution_count": 27,
   "metadata": {},
   "outputs": [
    {
     "data": {
      "image/png": "[encoded data removed]",
      "text/plain": [
       "<Figure size 576x432 with 1 Axes>"
      ]
     },
     "metadata": {},
     "output_type": "display_data"
    }
   ],
   "source": [
    "# Visualizing logloss vs iteration\n",
    "\n",
    "# Plot style\n",
    "plt.style.use('ggplot')\n",
    "# Plot size\n",
    "plt.rcParams['figure.figsize'] = [8, 6]\n",
    "\n",
    "plt_scores(acc_vals, col_name='Logloss')"
   ]
  },
  {
   "cell_type": "markdown",
   "metadata": {},
   "source": [
    "## Step 8. Model Testing"
   ]
  },
  {
   "cell_type": "code",
   "execution_count": 28,
   "metadata": {},
   "outputs": [],
   "source": [
    "# Predicting values\n",
    "y_pred = cat_boost_clf.predict(X_test)"
   ]
  },
  {
   "cell_type": "markdown",
   "metadata": {},
   "source": [
    "## Step 9. Model Evaluation"
   ]
  },
  {
   "cell_type": "code",
   "execution_count": 29,
   "metadata": {
    "scrolled": false
   },
   "outputs": [
    {
     "name": "stdout",
     "output_type": "stream",
     "text": [
      "Accuracy= 98.69%\n",
      "Classification report:\n",
      "              precision    recall  f1-score   support\n",
      "\n",
      "           0       0.94      0.82      0.88       379\n",
      "           1       0.99      1.00      0.99      6175\n",
      "\n",
      "    accuracy                           0.99      6554\n",
      "   macro avg       0.97      0.91      0.94      6554\n",
      "weighted avg       0.99      0.99      0.99      6554\n",
      "\n"
     ]
    }
   ],
   "source": [
    "# Performance  of the model\n",
    "eval_model(y_test, y_pred)"
   ]
  },
  {
   "cell_type": "markdown",
   "metadata": {},
   "source": [
    "## Step 10. Saving the model"
   ]
  },
  {
   "cell_type": "code",
   "execution_count": 30,
   "metadata": {},
   "outputs": [],
   "source": [
    "# Saving the trained model\n",
    "save_pickle(cat_boost_clf, 'models/catboost_clf.pkl')"
   ]
  }
 ],
 "metadata": {
  "kernelspec": {
   "display_name": "Python 3",
   "language": "python",
   "name": "python3"
  },
  "language_info": {
   "codemirror_mode": {
    "name": "ipython",
    "version": 3
   },
   "file_extension": ".py",
   "mimetype": "text/x-python",
   "name": "python",
   "nbconvert_exporter": "python",
   "pygments_lexer": "ipython3",
   "version": "3.6.7"
  }
 },
 "nbformat": 4,
 "nbformat_minor": 2
}
