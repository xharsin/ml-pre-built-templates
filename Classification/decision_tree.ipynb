{
 "cells": [
  {
   "cell_type": "markdown",
   "metadata": {},
   "source": [
    "# 1. Introduction\n",
    "\n",
    "In this notebook we are going to deal with a supervised learning (learning with teacher/labels) problem called Decision Tree(DT). Supervised learning is further divided into :\n",
    "    1. Classification\n",
    "    2. Regression\n",
    "The agenda of this notebook is related to Decision Tree under the class of classification (though it is also used under regression also). So only classification and Decision Tree is targeted in this notebook\n",
    "\n",
    "## 1.1. Classification\n",
    "\n",
    "The similarity between classification and regression (which make them children of same parent class i.e. supervised learning) that both take a set of training instances and learn a mapping to a target value.But classification is different from regression because under the classification the target value is a discrete class value. \n",
    "\n",
    "### 1.1.1 Decision Tree\n",
    "Decision Trees learns a series of explicit If Then rules on features values that results in the descition that predicts theatarget value. For example, when you try to guess what the other perosn is thinking by asking not and yes questions. This a popular supervise learning method that can be used for classification and regression. They are easy to use and understand and are often a good exploratory method if you are interested in getting a better idea about what the influencial features are in your data set\n",
    "\n",
    "\n",
    "# 2. Steps Involved:\n",
    "    0. Importing the required libraries - For importing all the dependencies.\n",
    "    1. Making the Fucntions of the required steps.\n",
    "    2. Importing dataset - For importing Dataset in the programm.\n",
    "    3. Feature Engineering - For getting features from the dataset.\n",
    "    4. Exploratory Data Analysis (EDA) - for checking the nature and structure of the dataset \n",
    "    5. Model Building - For Building the model (using sklearn).\n",
    "    6. Model Fitting - Fitting the model for clustering.\n",
    "    7. Saving the model - For re-use.\n",
    "    8. Loading the model - for loading the trained model\n",
    "    9. Evaluation of the model - For cheking the utility of the model.   \n",
    "\n",
    "\n",
    "# 3. Prerequisties\n",
    "\n",
    "## 3.1 Dataset\n",
    "\n",
    "breast_cancer dataset (Standard dataset under scikit library) has been used as dataset which is consist of 31 columns:\n",
    "    1. mean radius                \n",
    "    2. mean texture               \n",
    "    3. mean perimeter             \n",
    "    4. mean area                 \n",
    "    5. mean smoothness            \n",
    "    6. mean compactness           \n",
    "    7. mean concavity             \n",
    "    8. mean concave points        \n",
    "    9. mean symmetry            \n",
    "    10. mean fractal dimension    \n",
    "    11. radius error          \n",
    "    12. texture error              \n",
    "    13. perimeter error            \n",
    "    14. area error               \n",
    "    15. smoothness error          \n",
    "    16. compactness error         \n",
    "    17. concavity error        \n",
    "    18. concave points erro\n",
    "    19. symmetry error            \n",
    "    20. fractal dimension error \n",
    "    21. worst radius           \n",
    "    22. worst texture         \n",
    "    23. worst perimeter          \n",
    "    24. worst area                \n",
    "    25. worst smoothness           \n",
    "    26. worst compactness          \n",
    "    27. worst concavity           \n",
    "    28. worst concave points      \n",
    "    29. worst symmetry            \n",
    "    30. worst fractal dimension    \n",
    "    31. target                     \n",
    "\n",
    "\n",
    "## 3.2 Libraries Requirements\n",
    "    scikit-learn == 0.19.1\n",
    "    scipy == 1.1.0\n",
    "    pandas == 0.23.1\n",
    "    matplotlib == 2.0.2\n",
    "    numpy == 1.16.3\n",
    "    pickle == 0.7.4\n",
    "    visulization_utilities\n",
    "\n",
    "**NOTE** - visulization_utilities is not a python library. It is python script which is used in the model for better visulization of decision tree structure.\n",
    "    \n",
    "# 4. Use Case\n",
    "Some famous use cases of Decision Tree are :\n",
    "\n",
    "    1. Building knowledge management platforms for customer service that improve first call resolution, average handling time, and customer satisfaction rates\n",
    "    2. In finance, forecasting future outcomes and assigning probabilities to those outcomes\n",
    "    3. Binomial option pricing predictions and real option analysis\n",
    "    4. Customer’s willingness to purchase a given product in a given setting, i.e. offline and online both\n",
    "    5. Product planning; for example, Gerber Products, Inc. used decision trees to decide whether to continue planning PVC for manufacturing toys or not\n",
    "    6. General business decision-making\n",
    "    7. Loan approval\n",
    "\n"
   ]
  },
  {
   "cell_type": "markdown",
   "metadata": {},
   "source": [
    "## Step 0. Importing the required libraries"
   ]
  },
  {
   "cell_type": "code",
   "execution_count": 121,
   "metadata": {
    "collapsed": false
   },
   "outputs": [],
   "source": [
    "import numpy as np\n",
    "import matplotlib.pyplot as plt\n",
    "import pandas as pd\n",
    "from sklearn.preprocessing import StandardScaler\n",
    "from sklearn.tree import DecisionTreeClassifier\n",
    "from sklearn.cross_validation import train_test_split\n",
    "from sklearn.metrics import confusion_matrix\n",
    "from sklearn.metrics import accuracy_score \n",
    "from sklearn.metrics import classification_report \n",
    "from matplotlib.colors import ListedColormap\n",
    "import pickle\n",
    "from sklearn.datasets import load_breast_cancer\n",
    "from visulization_utilities import plot_decision_tree\n",
    "from visulization_utilities import plot_feature_importances"
   ]
  },
  {
   "cell_type": "markdown",
   "metadata": {
    "collapsed": false
   },
   "source": [
    "## Step 1. Making the Fucntions of the required steps"
   ]
  },
  {
   "cell_type": "code",
   "execution_count": 122,
   "metadata": {
    "collapsed": true
   },
   "outputs": [],
   "source": [
    "# FUNCTION FOR IMPORTING THE DATASET\n",
    "# Input:path of the dataset (CSV)\n",
    "# Output:dataframe \n",
    "                                   \n",
    "def import_dataset():\n",
    "    cancer_dataset = load_breast_cancer()\n",
    "    return cancer_dataset "
   ]
  },
  {
   "cell_type": "code",
   "execution_count": 123,
   "metadata": {
    "collapsed": true
   },
   "outputs": [],
   "source": [
    "# FUNCTION FOR CONVERTING DATASET INTO DATAFRAME\n",
    "# Input:Dataset imported\n",
    "# Output:Dataframe \n",
    "def convert_dataset_to_dataframe(cancer_dataset):    \n",
    "    df_cancer = pd.DataFrame(df.data,columns=df.feature_names)\n",
    "    df_cancer['target'] = pd.Series(df.target)\n",
    "    return df_cancer"
   ]
  },
  {
   "cell_type": "code",
   "execution_count": 124,
   "metadata": {
    "collapsed": true
   },
   "outputs": [],
   "source": [
    "# FUNCTION FOR SPLITING THE DATASET INTO FEATURES AND TARGET DATASET\n",
    "# Input:dataframe\n",
    "# Output:features dataset, target dataset\n",
    "\n",
    "def split_dataset(cancer_dataset):\n",
    "    X_cancer, y_cancer = load_breast_cancer(return_X_y = True)\n",
    "    return X,y"
   ]
  },
  {
   "cell_type": "code",
   "execution_count": 125,
   "metadata": {
    "collapsed": true
   },
   "outputs": [],
   "source": [
    "# FUNCTION FOR SPILTING THE DATA INTO TRAIN AND TEST DATASET\n",
    "# Input:features dataset, target dataset\n",
    "# Output:train dataset,test dataset\n",
    "def split_train_test(X,y):\n",
    "    X_train, X_test, y_train, y_test = train_test_split(X, y, random_state = 0)\n",
    "    return X_train, X_test, y_train, y_test "
   ]
  },
  {
   "cell_type": "code",
   "execution_count": 126,
   "metadata": {
    "collapsed": true
   },
   "outputs": [],
   "source": [
    "#FUNCTION FOR BUILDING THE MODEL\n",
    "#Input:none\n",
    "#Output:classifier\n",
    "def model_build():\n",
    "    classifier = clf = DecisionTreeClassifier(max_depth = 4, min_samples_leaf = 8,random_state = 0)\n",
    "    return classifier"
   ]
  },
  {
   "cell_type": "code",
   "execution_count": 127,
   "metadata": {
    "collapsed": true
   },
   "outputs": [],
   "source": [
    "#FUNCTION FOR TRAINING THE MODEL\n",
    "#Input:classifier, features and target dataset (training)\n",
    "#Output:trained model\n",
    "def model_train(classfier,X_train,y_train):\n",
    "    model = classifier.fit(X_train,y_train)\n",
    "    return model\n",
    "    "
   ]
  },
  {
   "cell_type": "code",
   "execution_count": 128,
   "metadata": {
    "collapsed": true
   },
   "outputs": [],
   "source": [
    "#FUNCTION FOR SAVING MODEL\n",
    "#Input:trained model\n",
    "#Output:none\n",
    "def model_save(model):\n",
    "    pickle.dump(model, open('models/DT.pickle', 'wb'))"
   ]
  },
  {
   "cell_type": "code",
   "execution_count": 129,
   "metadata": {
    "collapsed": true
   },
   "outputs": [],
   "source": [
    "#FUNCTION FOR LOADING MODEL\n",
    "#Input:Path of saved model\n",
    "#Output:Loaded model\n",
    "def model_load(path_model):\n",
    "    model_loaded=pickle.load(open(path_model, 'rb'))\n",
    "    return model_loaded"
   ]
  },
  {
   "cell_type": "code",
   "execution_count": 130,
   "metadata": {
    "collapsed": true
   },
   "outputs": [],
   "source": [
    "#FUNCTION FOR PREDICTIONS\n",
    "#Input:model,dataset for predictions\n",
    "#Output:predictions\n",
    "def prediction(model_loaded,X_test):\n",
    "    y_pred=classifier.predict(X_test)\n",
    "    return y_pred"
   ]
  },
  {
   "cell_type": "code",
   "execution_count": 131,
   "metadata": {
    "collapsed": true
   },
   "outputs": [],
   "source": [
    "#FUNCTION FOR VALIDATIONS\n",
    "#Input:predictions and real dataset\n",
    "#Output:consfusion matrix, accuracy and classification report\n",
    "def validation(y_test,y_pred):\n",
    "    cm = confusion_matrix(y_test, y_pred)\n",
    "    accuracy = accuracy_score(y_test, y_pred)\n",
    "    report = classification_report(y_test, y_pred)\n",
    "    return cm,accuracy,report"
   ]
  },
  {
   "cell_type": "markdown",
   "metadata": {},
   "source": [
    "## Step 2. Importing dataset"
   ]
  },
  {
   "cell_type": "code",
   "execution_count": 132,
   "metadata": {
    "collapsed": false
   },
   "outputs": [],
   "source": [
    "#Importing the dataset\n",
    "cancer_dataset = import_dataset()"
   ]
  },
  {
   "cell_type": "markdown",
   "metadata": {},
   "source": [
    "## Step 3. Exploratory Data Analysis (EDA)"
   ]
  },
  {
   "cell_type": "code",
   "execution_count": 133,
   "metadata": {
    "collapsed": false
   },
   "outputs": [],
   "source": [
    "#Converting dataset to dataframe for better Exploratory Data Analysis \n",
    "df_cancer = convert_dataset_to_dataframe(cancer_dataset)"
   ]
  },
  {
   "cell_type": "code",
   "execution_count": 134,
   "metadata": {
    "collapsed": false
   },
   "outputs": [
    {
     "data": {
      "text/html": [
       "<div>\n",
       "<style scoped>\n",
       "    .dataframe tbody tr th:only-of-type {\n",
       "        vertical-align: middle;\n",
       "    }\n",
       "\n",
       "    .dataframe tbody tr th {\n",
       "        vertical-align: top;\n",
       "    }\n",
       "\n",
       "    .dataframe thead th {\n",
       "        text-align: right;\n",
       "    }\n",
       "</style>\n",
       "<table border=\"1\" class=\"dataframe\">\n",
       "  <thead>\n",
       "    <tr style=\"text-align: right;\">\n",
       "      <th></th>\n",
       "      <th>mean radius</th>\n",
       "      <th>mean texture</th>\n",
       "      <th>mean perimeter</th>\n",
       "      <th>mean area</th>\n",
       "      <th>mean smoothness</th>\n",
       "      <th>mean compactness</th>\n",
       "      <th>mean concavity</th>\n",
       "      <th>mean concave points</th>\n",
       "      <th>mean symmetry</th>\n",
       "      <th>mean fractal dimension</th>\n",
       "      <th>...</th>\n",
       "      <th>worst texture</th>\n",
       "      <th>worst perimeter</th>\n",
       "      <th>worst area</th>\n",
       "      <th>worst smoothness</th>\n",
       "      <th>worst compactness</th>\n",
       "      <th>worst concavity</th>\n",
       "      <th>worst concave points</th>\n",
       "      <th>worst symmetry</th>\n",
       "      <th>worst fractal dimension</th>\n",
       "      <th>target</th>\n",
       "    </tr>\n",
       "  </thead>\n",
       "  <tbody>\n",
       "    <tr>\n",
       "      <th>0</th>\n",
       "      <td>17.99</td>\n",
       "      <td>10.38</td>\n",
       "      <td>122.80</td>\n",
       "      <td>1001.0</td>\n",
       "      <td>0.11840</td>\n",
       "      <td>0.27760</td>\n",
       "      <td>0.3001</td>\n",
       "      <td>0.14710</td>\n",
       "      <td>0.2419</td>\n",
       "      <td>0.07871</td>\n",
       "      <td>...</td>\n",
       "      <td>17.33</td>\n",
       "      <td>184.60</td>\n",
       "      <td>2019.0</td>\n",
       "      <td>0.1622</td>\n",
       "      <td>0.6656</td>\n",
       "      <td>0.7119</td>\n",
       "      <td>0.2654</td>\n",
       "      <td>0.4601</td>\n",
       "      <td>0.11890</td>\n",
       "      <td>0</td>\n",
       "    </tr>\n",
       "    <tr>\n",
       "      <th>1</th>\n",
       "      <td>20.57</td>\n",
       "      <td>17.77</td>\n",
       "      <td>132.90</td>\n",
       "      <td>1326.0</td>\n",
       "      <td>0.08474</td>\n",
       "      <td>0.07864</td>\n",
       "      <td>0.0869</td>\n",
       "      <td>0.07017</td>\n",
       "      <td>0.1812</td>\n",
       "      <td>0.05667</td>\n",
       "      <td>...</td>\n",
       "      <td>23.41</td>\n",
       "      <td>158.80</td>\n",
       "      <td>1956.0</td>\n",
       "      <td>0.1238</td>\n",
       "      <td>0.1866</td>\n",
       "      <td>0.2416</td>\n",
       "      <td>0.1860</td>\n",
       "      <td>0.2750</td>\n",
       "      <td>0.08902</td>\n",
       "      <td>0</td>\n",
       "    </tr>\n",
       "    <tr>\n",
       "      <th>2</th>\n",
       "      <td>19.69</td>\n",
       "      <td>21.25</td>\n",
       "      <td>130.00</td>\n",
       "      <td>1203.0</td>\n",
       "      <td>0.10960</td>\n",
       "      <td>0.15990</td>\n",
       "      <td>0.1974</td>\n",
       "      <td>0.12790</td>\n",
       "      <td>0.2069</td>\n",
       "      <td>0.05999</td>\n",
       "      <td>...</td>\n",
       "      <td>25.53</td>\n",
       "      <td>152.50</td>\n",
       "      <td>1709.0</td>\n",
       "      <td>0.1444</td>\n",
       "      <td>0.4245</td>\n",
       "      <td>0.4504</td>\n",
       "      <td>0.2430</td>\n",
       "      <td>0.3613</td>\n",
       "      <td>0.08758</td>\n",
       "      <td>0</td>\n",
       "    </tr>\n",
       "    <tr>\n",
       "      <th>3</th>\n",
       "      <td>11.42</td>\n",
       "      <td>20.38</td>\n",
       "      <td>77.58</td>\n",
       "      <td>386.1</td>\n",
       "      <td>0.14250</td>\n",
       "      <td>0.28390</td>\n",
       "      <td>0.2414</td>\n",
       "      <td>0.10520</td>\n",
       "      <td>0.2597</td>\n",
       "      <td>0.09744</td>\n",
       "      <td>...</td>\n",
       "      <td>26.50</td>\n",
       "      <td>98.87</td>\n",
       "      <td>567.7</td>\n",
       "      <td>0.2098</td>\n",
       "      <td>0.8663</td>\n",
       "      <td>0.6869</td>\n",
       "      <td>0.2575</td>\n",
       "      <td>0.6638</td>\n",
       "      <td>0.17300</td>\n",
       "      <td>0</td>\n",
       "    </tr>\n",
       "    <tr>\n",
       "      <th>4</th>\n",
       "      <td>20.29</td>\n",
       "      <td>14.34</td>\n",
       "      <td>135.10</td>\n",
       "      <td>1297.0</td>\n",
       "      <td>0.10030</td>\n",
       "      <td>0.13280</td>\n",
       "      <td>0.1980</td>\n",
       "      <td>0.10430</td>\n",
       "      <td>0.1809</td>\n",
       "      <td>0.05883</td>\n",
       "      <td>...</td>\n",
       "      <td>16.67</td>\n",
       "      <td>152.20</td>\n",
       "      <td>1575.0</td>\n",
       "      <td>0.1374</td>\n",
       "      <td>0.2050</td>\n",
       "      <td>0.4000</td>\n",
       "      <td>0.1625</td>\n",
       "      <td>0.2364</td>\n",
       "      <td>0.07678</td>\n",
       "      <td>0</td>\n",
       "    </tr>\n",
       "  </tbody>\n",
       "</table>\n",
       "<p>5 rows × 31 columns</p>\n",
       "</div>"
      ],
      "text/plain": [
       "   mean radius  mean texture  mean perimeter  mean area  mean smoothness  \\\n",
       "0        17.99         10.38          122.80     1001.0          0.11840   \n",
       "1        20.57         17.77          132.90     1326.0          0.08474   \n",
       "2        19.69         21.25          130.00     1203.0          0.10960   \n",
       "3        11.42         20.38           77.58      386.1          0.14250   \n",
       "4        20.29         14.34          135.10     1297.0          0.10030   \n",
       "\n",
       "   mean compactness  mean concavity  mean concave points  mean symmetry  \\\n",
       "0           0.27760          0.3001              0.14710         0.2419   \n",
       "1           0.07864          0.0869              0.07017         0.1812   \n",
       "2           0.15990          0.1974              0.12790         0.2069   \n",
       "3           0.28390          0.2414              0.10520         0.2597   \n",
       "4           0.13280          0.1980              0.10430         0.1809   \n",
       "\n",
       "   mean fractal dimension   ...    worst texture  worst perimeter  worst area  \\\n",
       "0                 0.07871   ...            17.33           184.60      2019.0   \n",
       "1                 0.05667   ...            23.41           158.80      1956.0   \n",
       "2                 0.05999   ...            25.53           152.50      1709.0   \n",
       "3                 0.09744   ...            26.50            98.87       567.7   \n",
       "4                 0.05883   ...            16.67           152.20      1575.0   \n",
       "\n",
       "   worst smoothness  worst compactness  worst concavity  worst concave points  \\\n",
       "0            0.1622             0.6656           0.7119                0.2654   \n",
       "1            0.1238             0.1866           0.2416                0.1860   \n",
       "2            0.1444             0.4245           0.4504                0.2430   \n",
       "3            0.2098             0.8663           0.6869                0.2575   \n",
       "4            0.1374             0.2050           0.4000                0.1625   \n",
       "\n",
       "   worst symmetry  worst fractal dimension  target  \n",
       "0          0.4601                  0.11890       0  \n",
       "1          0.2750                  0.08902       0  \n",
       "2          0.3613                  0.08758       0  \n",
       "3          0.6638                  0.17300       0  \n",
       "4          0.2364                  0.07678       0  \n",
       "\n",
       "[5 rows x 31 columns]"
      ]
     },
     "execution_count": 134,
     "metadata": {},
     "output_type": "execute_result"
    }
   ],
   "source": [
    "# Checking the nature of the entiries of Dataset\n",
    "df_cancer.head()"
   ]
  },
  {
   "cell_type": "code",
   "execution_count": 135,
   "metadata": {
    "collapsed": false
   },
   "outputs": [
    {
     "data": {
      "text/plain": [
       "(569, 31)"
      ]
     },
     "execution_count": 135,
     "metadata": {},
     "output_type": "execute_result"
    }
   ],
   "source": [
    "# Checking the shape of the Dataset\n",
    "df_cancer.shape"
   ]
  },
  {
   "cell_type": "code",
   "execution_count": 136,
   "metadata": {
    "collapsed": false
   },
   "outputs": [
    {
     "name": "stdout",
     "output_type": "stream",
     "text": [
      "<class 'pandas.core.frame.DataFrame'>\n",
      "RangeIndex: 569 entries, 0 to 568\n",
      "Data columns (total 31 columns):\n",
      "mean radius                569 non-null float64\n",
      "mean texture               569 non-null float64\n",
      "mean perimeter             569 non-null float64\n",
      "mean area                  569 non-null float64\n",
      "mean smoothness            569 non-null float64\n",
      "mean compactness           569 non-null float64\n",
      "mean concavity             569 non-null float64\n",
      "mean concave points        569 non-null float64\n",
      "mean symmetry              569 non-null float64\n",
      "mean fractal dimension     569 non-null float64\n",
      "radius error               569 non-null float64\n",
      "texture error              569 non-null float64\n",
      "perimeter error            569 non-null float64\n",
      "area error                 569 non-null float64\n",
      "smoothness error           569 non-null float64\n",
      "compactness error          569 non-null float64\n",
      "concavity error            569 non-null float64\n",
      "concave points error       569 non-null float64\n",
      "symmetry error             569 non-null float64\n",
      "fractal dimension error    569 non-null float64\n",
      "worst radius               569 non-null float64\n",
      "worst texture              569 non-null float64\n",
      "worst perimeter            569 non-null float64\n",
      "worst area                 569 non-null float64\n",
      "worst smoothness           569 non-null float64\n",
      "worst compactness          569 non-null float64\n",
      "worst concavity            569 non-null float64\n",
      "worst concave points       569 non-null float64\n",
      "worst symmetry             569 non-null float64\n",
      "worst fractal dimension    569 non-null float64\n",
      "target                     569 non-null int64\n",
      "dtypes: float64(30), int64(1)\n",
      "memory usage: 137.9 KB\n"
     ]
    }
   ],
   "source": [
    "# Checking the structure of the Dataset and Data type of all the variables of Dataset\n",
    "df_cancer.info()"
   ]
  },
  {
   "cell_type": "code",
   "execution_count": 137,
   "metadata": {
    "collapsed": false
   },
   "outputs": [
    {
     "data": {
      "image/png": "[encoded data removed]",
      "text/plain": [
       "<matplotlib.figure.Figure at 0x7fed30db4c18>"
      ]
     },
     "metadata": {},
     "output_type": "display_data"
    }
   ],
   "source": [
    "# Cheking the number of the entries under the classes of the Dataset\n",
    "from matplotlib import pyplot as plt\n",
    "\n",
    "plt.style.use('fivethirtyeight')\n",
    "# Customizing plot size\n",
    "plt.rcParams['figure.figsize'] = [5, 5]\n",
    "\n",
    "font_style = {'size':14, 'weight':'bold', 'color':'#000000'}\n",
    "\n",
    "df_cancer['target'].value_counts().plot(kind='bar', color=['#005f00', '#8f0000'], \n",
    "                                      alpha=0.8)\n",
    "\n",
    "\n",
    "plt.xlabel('Target', fontdict=font_style)\n",
    "plt.ylabel('Count', fontdict=font_style)\n",
    "plt.show()"
   ]
  },
  {
   "cell_type": "markdown",
   "metadata": {},
   "source": [
    "## Step 4.  Feature Engineering "
   ]
  },
  {
   "cell_type": "code",
   "execution_count": 138,
   "metadata": {
    "collapsed": false
   },
   "outputs": [
    {
     "name": "stdout",
     "output_type": "stream",
     "text": [
      "[[1.799e+01 1.038e+01 1.228e+02 ... 2.654e-01 4.601e-01 1.189e-01]\n",
      " [2.057e+01 1.777e+01 1.329e+02 ... 1.860e-01 2.750e-01 8.902e-02]\n",
      " [1.969e+01 2.125e+01 1.300e+02 ... 2.430e-01 3.613e-01 8.758e-02]\n",
      " ...\n",
      " [1.660e+01 2.808e+01 1.083e+02 ... 1.418e-01 2.218e-01 7.820e-02]\n",
      " [2.060e+01 2.933e+01 1.401e+02 ... 2.650e-01 4.087e-01 1.240e-01]\n",
      " [7.760e+00 2.454e+01 4.792e+01 ... 0.000e+00 2.871e-01 7.039e-02]] [0 0 0 0 0 0 0 0 0 0 0 0 0 0 0 0 0 0 0 1 1 1 0 0 0 0 0 0 0 0 0 0 0 0 0 0 0\n",
      " 1 0 0 0 0 0 0 0 0 1 0 1 1 1 1 1 0 0 1 0 0 1 1 1 1 0 1 0 0 1 1 1 1 0 1 0 0\n",
      " 1 0 1 0 0 1 1 1 0 0 1 0 0 0 1 1 1 0 1 1 0 0 1 1 1 0 0 1 1 1 1 0 1 1 0 1 1\n",
      " 1 1 1 1 1 1 0 0 0 1 0 0 1 1 1 0 0 1 0 1 0 0 1 0 0 1 1 0 1 1 0 1 1 1 1 0 1\n",
      " 1 1 1 1 1 1 1 1 0 1 1 1 1 0 0 1 0 1 1 0 0 1 1 0 0 1 1 1 1 0 1 1 0 0 0 1 0\n",
      " 1 0 1 1 1 0 1 1 0 0 1 0 0 0 0 1 0 0 0 1 0 1 0 1 1 0 1 0 0 0 0 1 1 0 0 1 1\n",
      " 1 0 1 1 1 1 1 0 0 1 1 0 1 1 0 0 1 0 1 1 1 1 0 1 1 1 1 1 0 1 0 0 0 0 0 0 0\n",
      " 0 0 0 0 0 0 0 1 1 1 1 1 1 0 1 0 1 1 0 1 1 0 1 0 0 1 1 1 1 1 1 1 1 1 1 1 1\n",
      " 1 0 1 1 0 1 0 1 1 1 1 1 1 1 1 1 1 1 1 1 1 0 1 1 1 0 1 0 1 1 1 1 0 0 0 1 1\n",
      " 1 1 0 1 0 1 0 1 1 1 0 1 1 1 1 1 1 1 0 0 0 1 1 1 1 1 1 1 1 1 1 1 0 0 1 0 0\n",
      " 0 1 0 0 1 1 1 1 1 0 1 1 1 1 1 0 1 1 1 0 1 1 0 0 1 1 1 1 1 1 0 1 1 1 1 1 1\n",
      " 1 0 1 1 1 1 1 0 1 1 0 1 1 1 1 1 1 1 1 1 1 1 1 0 1 0 0 1 0 1 1 1 1 1 0 1 1\n",
      " 0 1 0 1 1 0 1 0 1 1 1 1 1 1 1 1 0 0 1 1 1 1 1 1 0 1 1 1 1 1 1 1 1 1 1 0 1\n",
      " 1 1 1 1 1 1 0 1 0 1 1 0 1 1 1 1 1 0 0 1 0 1 0 1 1 1 1 1 0 1 1 0 1 0 1 0 0\n",
      " 1 1 1 0 1 1 1 1 1 1 1 1 1 1 1 0 1 0 0 1 1 1 1 1 1 1 1 1 1 1 1 1 1 1 1 1 1\n",
      " 1 1 1 1 1 1 1 0 0 0 0 0 0 1]\n"
     ]
    }
   ],
   "source": [
    "# Spliting the Dataset (Feature Extraction - Extracting the Features variables as X and target vairables as y)\n",
    "X,y = split_dataset(cancer_dataset)\n",
    "print (X,y)"
   ]
  },
  {
   "cell_type": "markdown",
   "metadata": {},
   "source": [
    "## Step 5. Pre-processing"
   ]
  },
  {
   "cell_type": "code",
   "execution_count": 139,
   "metadata": {
    "collapsed": false
   },
   "outputs": [],
   "source": [
    "# Dividing the feature variables and target variables into testing and training.\n",
    "X_train, X_test, y_train, y_test  = split_train_test(X,y)"
   ]
  },
  {
   "cell_type": "markdown",
   "metadata": {},
   "source": [
    "## Step 6. Model Building"
   ]
  },
  {
   "cell_type": "code",
   "execution_count": 141,
   "metadata": {
    "collapsed": false
   },
   "outputs": [
    {
     "name": "stdout",
     "output_type": "stream",
     "text": [
      "DecisionTreeClassifier(class_weight=None, criterion='gini', max_depth=4,\n",
      "            max_features=None, max_leaf_nodes=None,\n",
      "            min_impurity_decrease=0.0, min_impurity_split=None,\n",
      "            min_samples_leaf=8, min_samples_split=2,\n",
      "            min_weight_fraction_leaf=0.0, presort=False, random_state=0,\n",
      "            splitter='best')\n"
     ]
    }
   ],
   "source": [
    "# Building the model\n",
    "classifier = model_build()\n",
    "print (classifier)"
   ]
  },
  {
   "cell_type": "markdown",
   "metadata": {},
   "source": [
    "## Step 7. Model Training "
   ]
  },
  {
   "cell_type": "code",
   "execution_count": 142,
   "metadata": {
    "collapsed": false
   },
   "outputs": [],
   "source": [
    "## Training the model\n",
    "model=model_train(classifier,X_train,y_train)\n",
    "model_save(model)"
   ]
  },
  {
   "cell_type": "code",
   "execution_count": 143,
   "metadata": {
    "collapsed": true
   },
   "outputs": [],
   "source": [
    "## Saving the model\n",
    "path_model = 'models/DT.pickle'\n",
    "model_loaded = model_load(path_model)"
   ]
  },
  {
   "cell_type": "markdown",
   "metadata": {},
   "source": [
    "## Step 8. Model Evaluation "
   ]
  },
  {
   "cell_type": "code",
   "execution_count": 144,
   "metadata": {
    "collapsed": false
   },
   "outputs": [],
   "source": [
    "# Doing the predictions\n",
    "y_pred = prediction(model_loaded,X_test)"
   ]
  },
  {
   "cell_type": "code",
   "execution_count": 145,
   "metadata": {
    "collapsed": true
   },
   "outputs": [],
   "source": [
    "# Calculating confusion matrix, accuracy and classification report\n",
    "cm,accuracy,report = validation(y_test,y_pred)"
   ]
  },
  {
   "cell_type": "code",
   "execution_count": 146,
   "metadata": {
    "collapsed": false
   },
   "outputs": [
    {
     "name": "stdout",
     "output_type": "stream",
     "text": [
      "confusion matrix\n",
      " [[52  1]\n",
      " [ 8 82]]\n",
      "Accuracy: 93.7062937062937 %\n",
      "Report:              precision    recall  f1-score   support\n",
      "\n",
      "          0       0.87      0.98      0.92        53\n",
      "          1       0.99      0.91      0.95        90\n",
      "\n",
      "avg / total       0.94      0.94      0.94       143\n",
      "\n"
     ]
    }
   ],
   "source": [
    "# Printing the confusion matrix, accuracy and classification report\n",
    "print (\"confusion matrix\\n\",cm)\n",
    "print (\"Accuracy:\",accuracy*100,\"%\")\n",
    "print (\"Report:\",report)"
   ]
  },
  {
   "cell_type": "code",
   "execution_count": 147,
   "metadata": {
    "collapsed": false
   },
   "outputs": [
    {
     "data": {
      "image/svg+xml": [
       "<?xml version=\"1.0\" encoding=\"UTF-8\" standalone=\"no\"?>\n",
       "<!DOCTYPE svg PUBLIC \"-//W3C//DTD SVG 1.1//EN\"\n",
       " \"http://www.w3.org/Graphics/SVG/1.1/DTD/svg11.dtd\">\n",
       "<!-- Generated by graphviz version 2.38.0 (20140413.2041)\n",
       " -->\n",
       "<!-- Title: Tree Pages: 1 -->\n",
       "<svg width=\"887pt\" height=\"477pt\"\n",
       " viewBox=\"0.00 0.00 887.00 477.00\" xmlns=\"http://www.w3.org/2000/svg\" xmlns:xlink=\"http://www.w3.org/1999/xlink\">\n",
       "<g id=\"graph0\" class=\"graph\" transform=\"scale(1 1) rotate(0) translate(4 473)\">\n",
       "<title>Tree</title>\n",
       "<polygon fill=\"white\" stroke=\"none\" points=\"-4,4 -4,-473 883,-473 883,4 -4,4\"/>\n",
       "<!-- 0 -->\n",
       "<g id=\"node1\" class=\"node\"><title>0</title>\n",
       "<polygon fill=\"#399de5\" fill-opacity=\"0.403922\" stroke=\"black\" points=\"548.5,-469 362.5,-469 362.5,-401 548.5,-401 548.5,-469\"/>\n",
       "<text text-anchor=\"middle\" x=\"455.5\" y=\"-453.8\" font-family=\"Times,serif\" font-size=\"14.00\">mean concave points &lt;= 0.049</text>\n",
       "<text text-anchor=\"middle\" x=\"455.5\" y=\"-438.8\" font-family=\"Times,serif\" font-size=\"14.00\">samples = 426</text>\n",
       "<text text-anchor=\"middle\" x=\"455.5\" y=\"-423.8\" font-family=\"Times,serif\" font-size=\"14.00\">value = [159, 267]</text>\n",
       "<text text-anchor=\"middle\" x=\"455.5\" y=\"-408.8\" font-family=\"Times,serif\" font-size=\"14.00\">class = benign</text>\n",
       "</g>\n",
       "<!-- 1 -->\n",
       "<g id=\"node2\" class=\"node\"><title>1</title>\n",
       "<polygon fill=\"#399de5\" fill-opacity=\"0.949020\" stroke=\"black\" points=\"446.5,-365 318.5,-365 318.5,-297 446.5,-297 446.5,-365\"/>\n",
       "<text text-anchor=\"middle\" x=\"382.5\" y=\"-349.8\" font-family=\"Times,serif\" font-size=\"14.00\">worst area &lt;= 952.9</text>\n",
       "<text text-anchor=\"middle\" x=\"382.5\" y=\"-334.8\" font-family=\"Times,serif\" font-size=\"14.00\">samples = 260</text>\n",
       "<text text-anchor=\"middle\" x=\"382.5\" y=\"-319.8\" font-family=\"Times,serif\" font-size=\"14.00\">value = [13, 247]</text>\n",
       "<text text-anchor=\"middle\" x=\"382.5\" y=\"-304.8\" font-family=\"Times,serif\" font-size=\"14.00\">class = benign</text>\n",
       "</g>\n",
       "<!-- 0&#45;&gt;1 -->\n",
       "<g id=\"edge1\" class=\"edge\"><title>0&#45;&gt;1</title>\n",
       "<path fill=\"none\" stroke=\"black\" d=\"M431.799,-400.884C425.552,-392.154 418.731,-382.625 412.211,-373.514\"/>\n",
       "<polygon fill=\"black\" stroke=\"black\" points=\"414.998,-371.394 406.332,-365.299 409.306,-375.468 414.998,-371.394\"/>\n",
       "<text text-anchor=\"middle\" x=\"402.245\" y=\"-386.263\" font-family=\"Times,serif\" font-size=\"14.00\">True</text>\n",
       "</g>\n",
       "<!-- 8 -->\n",
       "<g id=\"node9\" class=\"node\"><title>8</title>\n",
       "<polygon fill=\"#e58139\" fill-opacity=\"0.862745\" stroke=\"black\" points=\"592.5,-365 464.5,-365 464.5,-297 592.5,-297 592.5,-365\"/>\n",
       "<text text-anchor=\"middle\" x=\"528.5\" y=\"-349.8\" font-family=\"Times,serif\" font-size=\"14.00\">worst area &lt;= 785.8</text>\n",
       "<text text-anchor=\"middle\" x=\"528.5\" y=\"-334.8\" font-family=\"Times,serif\" font-size=\"14.00\">samples = 166</text>\n",
       "<text text-anchor=\"middle\" x=\"528.5\" y=\"-319.8\" font-family=\"Times,serif\" font-size=\"14.00\">value = [146, 20]</text>\n",
       "<text text-anchor=\"middle\" x=\"528.5\" y=\"-304.8\" font-family=\"Times,serif\" font-size=\"14.00\">class = malignant</text>\n",
       "</g>\n",
       "<!-- 0&#45;&gt;8 -->\n",
       "<g id=\"edge8\" class=\"edge\"><title>0&#45;&gt;8</title>\n",
       "<path fill=\"none\" stroke=\"black\" d=\"M479.201,-400.884C485.448,-392.154 492.269,-382.625 498.789,-373.514\"/>\n",
       "<polygon fill=\"black\" stroke=\"black\" points=\"501.694,-375.468 504.668,-365.299 496.002,-371.394 501.694,-375.468\"/>\n",
       "<text text-anchor=\"middle\" x=\"508.755\" y=\"-386.263\" font-family=\"Times,serif\" font-size=\"14.00\">False</text>\n",
       "</g>\n",
       "<!-- 2 -->\n",
       "<g id=\"node3\" class=\"node\"><title>2</title>\n",
       "<polygon fill=\"#399de5\" fill-opacity=\"0.972549\" stroke=\"black\" points=\"308,-261 177,-261 177,-193 308,-193 308,-261\"/>\n",
       "<text text-anchor=\"middle\" x=\"242.5\" y=\"-245.8\" font-family=\"Times,serif\" font-size=\"14.00\">area error &lt;= 38.885</text>\n",
       "<text text-anchor=\"middle\" x=\"242.5\" y=\"-230.8\" font-family=\"Times,serif\" font-size=\"14.00\">samples = 252</text>\n",
       "<text text-anchor=\"middle\" x=\"242.5\" y=\"-215.8\" font-family=\"Times,serif\" font-size=\"14.00\">value = [7, 245]</text>\n",
       "<text text-anchor=\"middle\" x=\"242.5\" y=\"-200.8\" font-family=\"Times,serif\" font-size=\"14.00\">class = benign</text>\n",
       "</g>\n",
       "<!-- 1&#45;&gt;2 -->\n",
       "<g id=\"edge2\" class=\"edge\"><title>1&#45;&gt;2</title>\n",
       "<path fill=\"none\" stroke=\"black\" d=\"M337.046,-296.884C324.087,-287.442 309.842,-277.064 296.43,-267.292\"/>\n",
       "<polygon fill=\"black\" stroke=\"black\" points=\"298.348,-264.359 288.205,-261.299 294.226,-270.017 298.348,-264.359\"/>\n",
       "</g>\n",
       "<!-- 7 -->\n",
       "<g id=\"node8\" class=\"node\"><title>7</title>\n",
       "<polygon fill=\"#e58139\" fill-opacity=\"0.666667\" stroke=\"black\" points=\"439,-253.5 326,-253.5 326,-200.5 439,-200.5 439,-253.5\"/>\n",
       "<text text-anchor=\"middle\" x=\"382.5\" y=\"-238.3\" font-family=\"Times,serif\" font-size=\"14.00\">samples = 8</text>\n",
       "<text text-anchor=\"middle\" x=\"382.5\" y=\"-223.3\" font-family=\"Times,serif\" font-size=\"14.00\">value = [6, 2]</text>\n",
       "<text text-anchor=\"middle\" x=\"382.5\" y=\"-208.3\" font-family=\"Times,serif\" font-size=\"14.00\">class = malignant</text>\n",
       "</g>\n",
       "<!-- 1&#45;&gt;7 -->\n",
       "<g id=\"edge7\" class=\"edge\"><title>1&#45;&gt;7</title>\n",
       "<path fill=\"none\" stroke=\"black\" d=\"M382.5,-296.884C382.5,-286.326 382.5,-274.597 382.5,-263.854\"/>\n",
       "<polygon fill=\"black\" stroke=\"black\" points=\"386,-263.52 382.5,-253.52 379,-263.52 386,-263.52\"/>\n",
       "</g>\n",
       "<!-- 3 -->\n",
       "<g id=\"node4\" class=\"node\"><title>3</title>\n",
       "<polygon fill=\"#399de5\" fill-opacity=\"0.984314\" stroke=\"black\" points=\"187,-157 38,-157 38,-89 187,-89 187,-157\"/>\n",
       "<text text-anchor=\"middle\" x=\"112.5\" y=\"-141.8\" font-family=\"Times,serif\" font-size=\"14.00\">worst texture &lt;= 30.145</text>\n",
       "<text text-anchor=\"middle\" x=\"112.5\" y=\"-126.8\" font-family=\"Times,serif\" font-size=\"14.00\">samples = 244</text>\n",
       "<text text-anchor=\"middle\" x=\"112.5\" y=\"-111.8\" font-family=\"Times,serif\" font-size=\"14.00\">value = [4, 240]</text>\n",
       "<text text-anchor=\"middle\" x=\"112.5\" y=\"-96.8\" font-family=\"Times,serif\" font-size=\"14.00\">class = benign</text>\n",
       "</g>\n",
       "<!-- 2&#45;&gt;3 -->\n",
       "<g id=\"edge3\" class=\"edge\"><title>2&#45;&gt;3</title>\n",
       "<path fill=\"none\" stroke=\"black\" d=\"M200.293,-192.884C188.373,-183.531 175.281,-173.259 162.93,-163.568\"/>\n",
       "<polygon fill=\"black\" stroke=\"black\" points=\"164.968,-160.719 154.94,-157.299 160.647,-166.226 164.968,-160.719\"/>\n",
       "</g>\n",
       "<!-- 6 -->\n",
       "<g id=\"node7\" class=\"node\"><title>6</title>\n",
       "<polygon fill=\"#399de5\" fill-opacity=\"0.400000\" stroke=\"black\" points=\"300,-149.5 205,-149.5 205,-96.5 300,-96.5 300,-149.5\"/>\n",
       "<text text-anchor=\"middle\" x=\"252.5\" y=\"-134.3\" font-family=\"Times,serif\" font-size=\"14.00\">samples = 8</text>\n",
       "<text text-anchor=\"middle\" x=\"252.5\" y=\"-119.3\" font-family=\"Times,serif\" font-size=\"14.00\">value = [3, 5]</text>\n",
       "<text text-anchor=\"middle\" x=\"252.5\" y=\"-104.3\" font-family=\"Times,serif\" font-size=\"14.00\">class = benign</text>\n",
       "</g>\n",
       "<!-- 2&#45;&gt;6 -->\n",
       "<g id=\"edge6\" class=\"edge\"><title>2&#45;&gt;6</title>\n",
       "<path fill=\"none\" stroke=\"black\" d=\"M245.747,-192.884C246.793,-182.216 247.956,-170.352 249.018,-159.519\"/>\n",
       "<polygon fill=\"black\" stroke=\"black\" points=\"252.506,-159.814 249.998,-149.52 245.539,-159.131 252.506,-159.814\"/>\n",
       "</g>\n",
       "<!-- 4 -->\n",
       "<g id=\"node5\" class=\"node\"><title>4</title>\n",
       "<polygon fill=\"#399de5\" stroke=\"black\" points=\"105,-53 0,-53 0,-0 105,-0 105,-53\"/>\n",
       "<text text-anchor=\"middle\" x=\"52.5\" y=\"-37.8\" font-family=\"Times,serif\" font-size=\"14.00\">samples = 212</text>\n",
       "<text text-anchor=\"middle\" x=\"52.5\" y=\"-22.8\" font-family=\"Times,serif\" font-size=\"14.00\">value = [0, 212]</text>\n",
       "<text text-anchor=\"middle\" x=\"52.5\" y=\"-7.8\" font-family=\"Times,serif\" font-size=\"14.00\">class = benign</text>\n",
       "</g>\n",
       "<!-- 3&#45;&gt;4 -->\n",
       "<g id=\"edge4\" class=\"edge\"><title>3&#45;&gt;4</title>\n",
       "<path fill=\"none\" stroke=\"black\" d=\"M91.5149,-88.9485C85.939,-80.1664 79.905,-70.6629 74.2873,-61.815\"/>\n",
       "<polygon fill=\"black\" stroke=\"black\" points=\"77.1556,-59.8028 68.8408,-53.2367 71.2461,-63.5549 77.1556,-59.8028\"/>\n",
       "</g>\n",
       "<!-- 5 -->\n",
       "<g id=\"node6\" class=\"node\"><title>5</title>\n",
       "<polygon fill=\"#399de5\" fill-opacity=\"0.858824\" stroke=\"black\" points=\"221.5,-53 123.5,-53 123.5,-0 221.5,-0 221.5,-53\"/>\n",
       "<text text-anchor=\"middle\" x=\"172.5\" y=\"-37.8\" font-family=\"Times,serif\" font-size=\"14.00\">samples = 32</text>\n",
       "<text text-anchor=\"middle\" x=\"172.5\" y=\"-22.8\" font-family=\"Times,serif\" font-size=\"14.00\">value = [4, 28]</text>\n",
       "<text text-anchor=\"middle\" x=\"172.5\" y=\"-7.8\" font-family=\"Times,serif\" font-size=\"14.00\">class = benign</text>\n",
       "</g>\n",
       "<!-- 3&#45;&gt;5 -->\n",
       "<g id=\"edge5\" class=\"edge\"><title>3&#45;&gt;5</title>\n",
       "<path fill=\"none\" stroke=\"black\" d=\"M133.485,-88.9485C139.061,-80.1664 145.095,-70.6629 150.713,-61.815\"/>\n",
       "<polygon fill=\"black\" stroke=\"black\" points=\"153.754,-63.5549 156.159,-53.2367 147.844,-59.8028 153.754,-63.5549\"/>\n",
       "</g>\n",
       "<!-- 9 -->\n",
       "<g id=\"node10\" class=\"node\"><title>9</title>\n",
       "<polygon fill=\"#399de5\" fill-opacity=\"0.235294\" stroke=\"black\" points=\"600,-261 457,-261 457,-193 600,-193 600,-261\"/>\n",
       "<text text-anchor=\"middle\" x=\"528.5\" y=\"-245.8\" font-family=\"Times,serif\" font-size=\"14.00\">worst texture &lt;= 23.74</text>\n",
       "<text text-anchor=\"middle\" x=\"528.5\" y=\"-230.8\" font-family=\"Times,serif\" font-size=\"14.00\">samples = 30</text>\n",
       "<text text-anchor=\"middle\" x=\"528.5\" y=\"-215.8\" font-family=\"Times,serif\" font-size=\"14.00\">value = [13, 17]</text>\n",
       "<text text-anchor=\"middle\" x=\"528.5\" y=\"-200.8\" font-family=\"Times,serif\" font-size=\"14.00\">class = benign</text>\n",
       "</g>\n",
       "<!-- 8&#45;&gt;9 -->\n",
       "<g id=\"edge9\" class=\"edge\"><title>8&#45;&gt;9</title>\n",
       "<path fill=\"none\" stroke=\"black\" d=\"M528.5,-296.884C528.5,-288.778 528.5,-279.982 528.5,-271.472\"/>\n",
       "<polygon fill=\"black\" stroke=\"black\" points=\"532,-271.299 528.5,-261.299 525,-271.299 532,-271.299\"/>\n",
       "</g>\n",
       "<!-- 14 -->\n",
       "<g id=\"node15\" class=\"node\"><title>14</title>\n",
       "<polygon fill=\"#e58139\" fill-opacity=\"0.976471\" stroke=\"black\" points=\"767,-261 618,-261 618,-193 767,-193 767,-261\"/>\n",
       "<text text-anchor=\"middle\" x=\"692.5\" y=\"-245.8\" font-family=\"Times,serif\" font-size=\"14.00\">worst texture &lt;= 19.385</text>\n",
       "<text text-anchor=\"middle\" x=\"692.5\" y=\"-230.8\" font-family=\"Times,serif\" font-size=\"14.00\">samples = 136</text>\n",
       "<text text-anchor=\"middle\" x=\"692.5\" y=\"-215.8\" font-family=\"Times,serif\" font-size=\"14.00\">value = [133, 3]</text>\n",
       "<text text-anchor=\"middle\" x=\"692.5\" y=\"-200.8\" font-family=\"Times,serif\" font-size=\"14.00\">class = malignant</text>\n",
       "</g>\n",
       "<!-- 8&#45;&gt;14 -->\n",
       "<g id=\"edge14\" class=\"edge\"><title>8&#45;&gt;14</title>\n",
       "<path fill=\"none\" stroke=\"black\" d=\"M581.746,-296.884C597.292,-287.214 614.418,-276.563 630.458,-266.587\"/>\n",
       "<polygon fill=\"black\" stroke=\"black\" points=\"632.598,-269.378 639.241,-261.125 628.901,-263.434 632.598,-269.378\"/>\n",
       "</g>\n",
       "<!-- 10 -->\n",
       "<g id=\"node11\" class=\"node\"><title>10</title>\n",
       "<polygon fill=\"#399de5\" stroke=\"black\" points=\"428.5,-149.5 330.5,-149.5 330.5,-96.5 428.5,-96.5 428.5,-149.5\"/>\n",
       "<text text-anchor=\"middle\" x=\"379.5\" y=\"-134.3\" font-family=\"Times,serif\" font-size=\"14.00\">samples = 14</text>\n",
       "<text text-anchor=\"middle\" x=\"379.5\" y=\"-119.3\" font-family=\"Times,serif\" font-size=\"14.00\">value = [0, 14]</text>\n",
       "<text text-anchor=\"middle\" x=\"379.5\" y=\"-104.3\" font-family=\"Times,serif\" font-size=\"14.00\">class = benign</text>\n",
       "</g>\n",
       "<!-- 9&#45;&gt;10 -->\n",
       "<g id=\"edge10\" class=\"edge\"><title>9&#45;&gt;10</title>\n",
       "<path fill=\"none\" stroke=\"black\" d=\"M480.124,-192.884C462.452,-180.786 442.534,-167.151 425.111,-155.224\"/>\n",
       "<polygon fill=\"black\" stroke=\"black\" points=\"427.008,-152.281 416.779,-149.52 423.054,-158.057 427.008,-152.281\"/>\n",
       "</g>\n",
       "<!-- 11 -->\n",
       "<g id=\"node12\" class=\"node\"><title>11</title>\n",
       "<polygon fill=\"#e58139\" fill-opacity=\"0.768627\" stroke=\"black\" points=\"615,-157 446,-157 446,-89 615,-89 615,-157\"/>\n",
       "<text text-anchor=\"middle\" x=\"530.5\" y=\"-141.8\" font-family=\"Times,serif\" font-size=\"14.00\">worst smoothness &lt;= 0.166</text>\n",
       "<text text-anchor=\"middle\" x=\"530.5\" y=\"-126.8\" font-family=\"Times,serif\" font-size=\"14.00\">samples = 16</text>\n",
       "<text text-anchor=\"middle\" x=\"530.5\" y=\"-111.8\" font-family=\"Times,serif\" font-size=\"14.00\">value = [13, 3]</text>\n",
       "<text text-anchor=\"middle\" x=\"530.5\" y=\"-96.8\" font-family=\"Times,serif\" font-size=\"14.00\">class = malignant</text>\n",
       "</g>\n",
       "<!-- 9&#45;&gt;11 -->\n",
       "<g id=\"edge11\" class=\"edge\"><title>9&#45;&gt;11</title>\n",
       "<path fill=\"none\" stroke=\"black\" d=\"M529.149,-192.884C529.308,-184.778 529.481,-175.982 529.648,-167.472\"/>\n",
       "<polygon fill=\"black\" stroke=\"black\" points=\"533.15,-167.366 529.847,-157.299 526.152,-167.229 533.15,-167.366\"/>\n",
       "</g>\n",
       "<!-- 12 -->\n",
       "<g id=\"node13\" class=\"node\"><title>12</title>\n",
       "<polygon fill=\"#e58139\" fill-opacity=\"0.400000\" stroke=\"black\" points=\"521,-53 408,-53 408,-0 521,-0 521,-53\"/>\n",
       "<text text-anchor=\"middle\" x=\"464.5\" y=\"-37.8\" font-family=\"Times,serif\" font-size=\"14.00\">samples = 8</text>\n",
       "<text text-anchor=\"middle\" x=\"464.5\" y=\"-22.8\" font-family=\"Times,serif\" font-size=\"14.00\">value = [5, 3]</text>\n",
       "<text text-anchor=\"middle\" x=\"464.5\" y=\"-7.8\" font-family=\"Times,serif\" font-size=\"14.00\">class = malignant</text>\n",
       "</g>\n",
       "<!-- 11&#45;&gt;12 -->\n",
       "<g id=\"edge12\" class=\"edge\"><title>11&#45;&gt;12</title>\n",
       "<path fill=\"none\" stroke=\"black\" d=\"M507.416,-88.9485C501.219,-80.0749 494.507,-70.4648 488.273,-61.5388\"/>\n",
       "<polygon fill=\"black\" stroke=\"black\" points=\"491.07,-59.4311 482.475,-53.2367 485.331,-63.4392 491.07,-59.4311\"/>\n",
       "</g>\n",
       "<!-- 13 -->\n",
       "<g id=\"node14\" class=\"node\"><title>13</title>\n",
       "<polygon fill=\"#e58139\" stroke=\"black\" points=\"652,-53 539,-53 539,-0 652,-0 652,-53\"/>\n",
       "<text text-anchor=\"middle\" x=\"595.5\" y=\"-37.8\" font-family=\"Times,serif\" font-size=\"14.00\">samples = 8</text>\n",
       "<text text-anchor=\"middle\" x=\"595.5\" y=\"-22.8\" font-family=\"Times,serif\" font-size=\"14.00\">value = [8, 0]</text>\n",
       "<text text-anchor=\"middle\" x=\"595.5\" y=\"-7.8\" font-family=\"Times,serif\" font-size=\"14.00\">class = malignant</text>\n",
       "</g>\n",
       "<!-- 11&#45;&gt;13 -->\n",
       "<g id=\"edge13\" class=\"edge\"><title>11&#45;&gt;13</title>\n",
       "<path fill=\"none\" stroke=\"black\" d=\"M553.234,-88.9485C559.337,-80.0749 565.947,-70.4648 572.087,-61.5388\"/>\n",
       "<polygon fill=\"black\" stroke=\"black\" points=\"575.014,-63.4594 577.798,-53.2367 569.247,-59.4924 575.014,-63.4594\"/>\n",
       "</g>\n",
       "<!-- 15 -->\n",
       "<g id=\"node16\" class=\"node\"><title>15</title>\n",
       "<polygon fill=\"#e58139\" fill-opacity=\"0.498039\" stroke=\"black\" points=\"748,-149.5 635,-149.5 635,-96.5 748,-96.5 748,-149.5\"/>\n",
       "<text text-anchor=\"middle\" x=\"691.5\" y=\"-134.3\" font-family=\"Times,serif\" font-size=\"14.00\">samples = 9</text>\n",
       "<text text-anchor=\"middle\" x=\"691.5\" y=\"-119.3\" font-family=\"Times,serif\" font-size=\"14.00\">value = [6, 3]</text>\n",
       "<text text-anchor=\"middle\" x=\"691.5\" y=\"-104.3\" font-family=\"Times,serif\" font-size=\"14.00\">class = malignant</text>\n",
       "</g>\n",
       "<!-- 14&#45;&gt;15 -->\n",
       "<g id=\"edge15\" class=\"edge\"><title>14&#45;&gt;15</title>\n",
       "<path fill=\"none\" stroke=\"black\" d=\"M692.175,-192.884C692.072,-182.326 691.957,-170.597 691.852,-159.854\"/>\n",
       "<polygon fill=\"black\" stroke=\"black\" points=\"695.348,-159.485 691.75,-149.52 688.348,-159.554 695.348,-159.485\"/>\n",
       "</g>\n",
       "<!-- 16 -->\n",
       "<g id=\"node17\" class=\"node\"><title>16</title>\n",
       "<polygon fill=\"#e58139\" stroke=\"black\" points=\"879,-149.5 766,-149.5 766,-96.5 879,-96.5 879,-149.5\"/>\n",
       "<text text-anchor=\"middle\" x=\"822.5\" y=\"-134.3\" font-family=\"Times,serif\" font-size=\"14.00\">samples = 127</text>\n",
       "<text text-anchor=\"middle\" x=\"822.5\" y=\"-119.3\" font-family=\"Times,serif\" font-size=\"14.00\">value = [127, 0]</text>\n",
       "<text text-anchor=\"middle\" x=\"822.5\" y=\"-104.3\" font-family=\"Times,serif\" font-size=\"14.00\">class = malignant</text>\n",
       "</g>\n",
       "<!-- 14&#45;&gt;16 -->\n",
       "<g id=\"edge16\" class=\"edge\"><title>14&#45;&gt;16</title>\n",
       "<path fill=\"none\" stroke=\"black\" d=\"M734.707,-192.884C749.846,-181.006 766.872,-167.646 781.874,-155.876\"/>\n",
       "<polygon fill=\"black\" stroke=\"black\" points=\"784.268,-158.446 789.975,-149.52 779.947,-152.939 784.268,-158.446\"/>\n",
       "</g>\n",
       "</g>\n",
       "</svg>\n"
      ],
      "text/plain": [
       "<graphviz.files.Source at 0x7fed30717a90>"
      ]
     },
     "execution_count": 147,
     "metadata": {},
     "output_type": "execute_result"
    }
   ],
   "source": [
    "#plotting the decision tree using trained model\n",
    "plot_decision_tree(model_loaded, cancer_dataset.feature_names, cancer_dataset.target_names)"
   ]
  },
  {
   "cell_type": "code",
   "execution_count": 148,
   "metadata": {
    "collapsed": false
   },
   "outputs": [
    {
     "data": {
      "image/png": "[encoded data removed]",
      "text/plain": [
       "<matplotlib.figure.Figure at 0x7fed32e08c18>"
      ]
     },
     "metadata": {},
     "output_type": "display_data"
    }
   ],
   "source": [
    "# a small use case of decision tree it can used for knowing importance of the different features, below is the example\n",
    "plt.figure(figsize=(10,6),dpi=80)\n",
    "plot_feature_importances(model_loaded, cancer_dataset.feature_names)\n",
    "plt.tight_layout()\n",
    "\n",
    "plt.show()"
   ]
  },
  {
   "cell_type": "code",
   "execution_count": null,
   "metadata": {
    "collapsed": true
   },
   "outputs": [],
   "source": []
  }
 ],
 "metadata": {
  "anaconda-cloud": {},
  "kernelspec": {
   "display_name": "Python [default]",
   "language": "python",
   "name": "python3"
  },
  "language_info": {
   "codemirror_mode": {
    "name": "ipython",
    "version": 3
   },
   "file_extension": ".py",
   "mimetype": "text/x-python",
   "name": "python",
   "nbconvert_exporter": "python",
   "pygments_lexer": "ipython3",
   "version": "3.5.2"
  }
 },
 "nbformat": 4,
 "nbformat_minor": 1
}
